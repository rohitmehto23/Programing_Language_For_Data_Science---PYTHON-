{
 "cells": [
  {
   "cell_type": "code",
   "execution_count": 2,
   "id": "6be37485",
   "metadata": {},
   "outputs": [
    {
     "name": "stdout",
     "output_type": "stream",
     "text": [
      "what is your name ? rohit\n",
      "welcome rohit\n"
     ]
    }
   ],
   "source": [
    "#TAKING INPUT FROM USER\n",
    "\n",
    "name = input(\"what is your name ? \")\n",
    "print(\"welcome\", name)"
   ]
  },
  {
   "cell_type": "code",
   "execution_count": null,
   "id": "136c50d2",
   "metadata": {},
   "outputs": [],
   "source": [
    "# program to add inputs\n",
    "sub1 = int(input(\"mark sub1: \"))\n",
    "sub2 = int(input(\"mark sub2: \"))\n",
    "total = sub1 + sub2\n",
    "print(\"The total mark is: \", total)"
   ]
  },
  {
   "cell_type": "code",
   "execution_count": null,
   "id": "61fa565e",
   "metadata": {},
   "outputs": [],
   "source": [
    "# AREA OF TRIANGLE\n",
    "\n",
    "b = float(input(\"enter base: \"))\n",
    "h = float(input(\"enter height: \"))\n",
    "area = 1/2 * b * h\n",
    "print(area)\n",
    "     "
   ]
  },
  {
   "cell_type": "code",
   "execution_count": 1,
   "id": "659f4eaa",
   "metadata": {},
   "outputs": [
    {
     "name": "stdout",
     "output_type": "stream",
     "text": [
      "enter length of 1st side: 23\n",
      "enter length of 2nd side: 23\n",
      "enter length of 3rd side: 23\n",
      "\n",
      "Area of the triangle is :  229.06371930098402\n"
     ]
    }
   ],
   "source": [
    "# area of triangle (if perimeter is given)\n",
    "\n",
    "a = float(input(\"enter length of 1st side: \"))   # 3\n",
    "b = float(input(\"enter length of 2nd side: \"))   # 4\n",
    "c = float(input(\"enter length of 3rd side: \"))   # 5\n",
    "\n",
    "# calculate semi-perimeter\n",
    "s = (a+b+c)/2\n",
    "# calculate Area\n",
    "area = (s*(s-a) * (s-b) * (s-c)) ** 0.5\n",
    "print(\"\\nArea of the triangle is : \", area)"
   ]
  },
  {
   "cell_type": "code",
   "execution_count": 2,
   "id": "f0cde3ed",
   "metadata": {},
   "outputs": [
    {
     "name": "stdout",
     "output_type": "stream",
     "text": [
      "enter any values32\n",
      "it's a hot day\n",
      "it's a beautiful day\n"
     ]
    }
   ],
   "source": [
    "# IF ELSE CODE\n",
    "\n",
    "\n",
    "# WRITE A PYTHON PROGRAM TO TELL THE TEMPERATURE BY INPUT\n",
    "\n",
    "temp = int(input(\"enter any values\"))\n",
    "if temp > 30:\n",
    "    print(\"it's a hot day\")\n",
    "elif temp > 25:\n",
    "    print(\"it's a pleasant day\")\n",
    "elif temp > 25:\n",
    "    print(\"it's a cold day\")\n",
    "else:\n",
    "    print(\"it's a chilly day\")\n",
    "print(\"it's a beautiful day\")"
   ]
  },
  {
   "cell_type": "code",
   "execution_count": 3,
   "id": "f2862c59",
   "metadata": {},
   "outputs": [
    {
     "name": "stdout",
     "output_type": "stream",
     "text": [
      "marks a: 1\n",
      "marks b: 2\n",
      "marks c: 3\n",
      "marks d: 3\n",
      "marks e: 3\n",
      "The percentage is: 2.4 %\n",
      "enter marks in percentage: 34\n",
      "D\n"
     ]
    }
   ],
   "source": [
    "# GRADE QUESTION\n",
    "# MAKE A PYTHON PROGRAM USING IF ELSE TO TELL THE GRADES ACCORDING TO THE PERCENTAGE OF MARKS. (USE INPUT FUNCTION)\n",
    "\n",
    "\n",
    "# calculate percentage\n",
    "a = float(input(\"marks a: \"))\n",
    "b = float(input(\"marks b: \"))\n",
    "c = float(input(\"marks c: \"))\n",
    "d = float(input(\"marks d: \"))\n",
    "e = float(input(\"marks e: \"))\n",
    "\n",
    "percentage = (a+b+c+d+e)/500*100\n",
    "print(f\"The percentage is: {percentage} %\")\n",
    "\n",
    "# input percentage\n",
    "percentage = float(input(\"enter marks in percentage: \"))\n",
    "if percentage > 95:\n",
    "    print(\"A+\")\n",
    "elif percentage > 90:\n",
    "    print(\"A\")\n",
    "elif percentage > 80:\n",
    "    print(\"B+\")\n",
    "elif percentage > 70:\n",
    "    print(\"B\")\n",
    "elif percentage > 60:\n",
    "    print(\"C+\")\n",
    "elif percentage > 50:\n",
    "    print(\"C\")\n",
    "elif percentage > 40:\n",
    "    print(\"D+\")\n",
    "elif percentage > 33:\n",
    "    print(\"D\")\n",
    "else:\n",
    "    print(\"F\")\n",
    "     "
   ]
  },
  {
   "cell_type": "code",
   "execution_count": 4,
   "id": "b4dddf67",
   "metadata": {},
   "outputs": [
    {
     "name": "stdout",
     "output_type": "stream",
     "text": [
      "what is basic: 23\n",
      "4.6000000000000005\n",
      "11.5\n",
      "2.53\n",
      "The allowance is:  1300\n",
      "The gross salary is : 1336.57\n"
     ]
    }
   ],
   "source": [
    "#  GROSS SALARY OF A PERSON CONSIDERING THE FOLLOWING INFORMATION.\n",
    "basic = int(input(\"what is basic: \"))\n",
    "hra = 0.20 * basic\n",
    "da = 0.50 * basic\n",
    "pf = 0.11 * basic\n",
    "print(hra)\n",
    "print(da)\n",
    "print(pf)\n",
    "if basic > 10000:\n",
    "    allowance = 1700\n",
    "elif basic > 5000:\n",
    "    allowance = 15000\n",
    "else:\n",
    "    allowance = 1300\n",
    "print(\"The allowance is: \", allowance)\n",
    "\n",
    "gs = basic + hra + da + allowance - pf\n",
    "print(\"The gross salary is :\" , gs)\n",
    "     "
   ]
  },
  {
   "cell_type": "code",
   "execution_count": 5,
   "id": "f1405183",
   "metadata": {},
   "outputs": [
    {
     "name": "stdout",
     "output_type": "stream",
     "text": [
      "Enter first number : 123\n",
      "Enter second number : 2\n",
      "----press keys for operator (+,-,*,/,%)----------\n",
      "Enter operator : *\n",
      "246\n"
     ]
    }
   ],
   "source": [
    "#  calculator\n",
    "\n",
    "first = input(\"Enter first number : \")\n",
    "second = input(\"Enter second number : \")\n",
    "first = int(first)\n",
    "second = int(second)\n",
    "print(\"----press keys for operator (+,-,*,/,%)----------\")\n",
    "operator = input(\"Enter operator : \")\n",
    "if operator == \"+\":\n",
    "    print(first + second)\n",
    "elif operator == \"-\":\n",
    "    print(first - second)\n",
    "elif operator == \"*\":\n",
    "    print(first * second)\n",
    "elif operator == \"/\":\n",
    "    print(first / second)\n",
    "elif operator == \"%\":\n",
    "    print(first % second)\n",
    "else:\n",
    "    print(\"Invalid Operation\")\n",
    "     "
   ]
  },
  {
   "cell_type": "code",
   "execution_count": 6,
   "id": "ce4569f2",
   "metadata": {},
   "outputs": [
    {
     "name": "stdout",
     "output_type": "stream",
     "text": [
      "Hello World\n"
     ]
    }
   ],
   "source": [
    "# DEF FUNCTIONS\n",
    "\n",
    "# write program to print \"HELLO WORLD\" using def function.\n",
    "\n",
    "def myfunction():\n",
    "    print(\"Hello World\")\n",
    "myfunction()"
   ]
  },
  {
   "cell_type": "code",
   "execution_count": 7,
   "id": "3b5bb7f4",
   "metadata": {},
   "outputs": [
    {
     "name": "stdout",
     "output_type": "stream",
     "text": [
      "Happy birday to you !may god bless you !Happy birthday to you !\n",
      "Happy birday to you !may god bless you !Happy birthday to you !\n",
      "Happy birday to you !may god bless you !Happy birthday to you !\n"
     ]
    }
   ],
   "source": [
    "# WRITE A PYTHON PROGRAM TO PRINT HAPPY BIRTHDAY WISH 3 TIMES USING DEF FUNCTION.\n",
    "\n",
    "def myfunction():\n",
    "    print(\"Happy birday to you !may god bless you !Happy birthday to you !\")\n",
    "myfunction()\n",
    "myfunction()\n",
    "myfunction()"
   ]
  },
  {
   "cell_type": "code",
   "execution_count": 22,
   "id": "f1b9805f",
   "metadata": {},
   "outputs": [
    {
     "name": "stdout",
     "output_type": "stream",
     "text": [
      "17\n"
     ]
    }
   ],
   "source": [
    "# define addition \n",
    "def addn():\n",
    "    print(8+9)\n",
    "addn()    "
   ]
  },
  {
   "cell_type": "code",
   "execution_count": 23,
   "id": "eb8d4e5a",
   "metadata": {},
   "outputs": [
    {
     "name": "stdout",
     "output_type": "stream",
     "text": [
      "28\n"
     ]
    }
   ],
   "source": [
    "# define substraction\n",
    "def subs():\n",
    "    print(65-37)\n",
    "subs()    "
   ]
  },
  {
   "cell_type": "code",
   "execution_count": 24,
   "id": "b85273d2",
   "metadata": {},
   "outputs": [
    {
     "name": "stdout",
     "output_type": "stream",
     "text": [
      "32\n"
     ]
    }
   ],
   "source": [
    "# define multiplication\n",
    "def mult():\n",
    "    print(8*4)\n",
    "mult()"
   ]
  },
  {
   "cell_type": "code",
   "execution_count": 25,
   "id": "8d287a32",
   "metadata": {},
   "outputs": [
    {
     "name": "stdout",
     "output_type": "stream",
     "text": [
      "2.0\n"
     ]
    }
   ],
   "source": [
    "# define division\n",
    "def dev():\n",
    "    print(68/34)\n",
    "dev() "
   ]
  },
  {
   "cell_type": "code",
   "execution_count": 26,
   "id": "1f8627a1",
   "metadata": {},
   "outputs": [
    {
     "name": "stdout",
     "output_type": "stream",
     "text": [
      "110\n"
     ]
    }
   ],
   "source": [
    "def add(num1,num2):\n",
    "    sum=num1+num2\n",
    "    print(sum)\n",
    "#call\n",
    "add(30,80)"
   ]
  },
  {
   "cell_type": "code",
   "execution_count": 2,
   "id": "7ffd1f0d",
   "metadata": {},
   "outputs": [
    {
     "name": "stdout",
     "output_type": "stream",
     "text": [
      "1449\n"
     ]
    }
   ],
   "source": [
    "def mult(num1,num2):\n",
    "    mult=num1*num2\n",
    "    print(mult)\n",
    "mult(23,63)"
   ]
  },
  {
   "cell_type": "code",
   "execution_count": 3,
   "id": "37f555a8",
   "metadata": {},
   "outputs": [
    {
     "name": "stdout",
     "output_type": "stream",
     "text": [
      "9.0\n"
     ]
    }
   ],
   "source": [
    "def dev(num1,num2):\n",
    "    dev=num1/num2\n",
    "    print(dev)\n",
    "dev(45,5)"
   ]
  },
  {
   "cell_type": "code",
   "execution_count": 4,
   "id": "728ed263",
   "metadata": {},
   "outputs": [
    {
     "name": "stdout",
     "output_type": "stream",
     "text": [
      "16\n"
     ]
    }
   ],
   "source": [
    "#define a program that returns a multiple of 8 for every number inserted\n",
    "def mult(num1):\n",
    "    mult=num1*8\n",
    "    print(mult)\n",
    "mult(2)    \n"
   ]
  },
  {
   "cell_type": "code",
   "execution_count": null,
   "id": "7afe9d35",
   "metadata": {},
   "outputs": [],
   "source": [
    "# create a function that check either a given integer is negetive , positive or zero ?\n",
    "def check_integer(n):\n",
    "    if n>0:\n",
    "        print(\"positive\")\n",
    "    elif n<0:\n",
    "        print(\"negetive\")\n",
    "    else:\n",
    "        print(\"zero\")\n",
    "    \n",
    "num=int(input(\"enter an integer: \"))\n",
    "result=check_integer(num)\n",
    "  "
   ]
  },
  {
   "cell_type": "code",
   "execution_count": null,
   "id": "b2543dd0",
   "metadata": {},
   "outputs": [],
   "source": [
    "i=int(input('enter total '))\n",
    "fact=1\n",
    "while(i>0):\n",
    "    fact=fact*i\n",
    "    i=i-1\n",
    "print(\"factorial is \", fact)"
   ]
  },
  {
   "cell_type": "code",
   "execution_count": null,
   "id": "20cbd021",
   "metadata": {},
   "outputs": [],
   "source": [
    "i=int(input('enter number '))\n",
    "while i!= -1:\n",
    "      i=int(input('enter number '))"
   ]
  },
  {
   "cell_type": "code",
   "execution_count": null,
   "id": "9262f1d0",
   "metadata": {},
   "outputs": [],
   "source": [
    "import array \n",
    "from array import*\n",
    "def pairwise_swap(arr):\n",
    "    n=len(arr)\n",
    "   \n",
    "    for i in range (0,n-1):\n",
    "        for j in range(0,n-i-1):\n",
    "            if arr[j] > arr[j+1]:\n",
    "                arr[j],arr[j+1]=arr[j+1],arr[j]\n",
    "\n",
    "                \n",
    "array1=array('i',[64,65,27,36,82,93,56,82,54,35])\n",
    "pairwise_swap(array1)\n",
    "print(\"n\")\n",
    "print(array1)"
   ]
  },
  {
   "cell_type": "code",
   "execution_count": null,
   "id": "b6821815",
   "metadata": {},
   "outputs": [],
   "source": [
    "import array \n",
    "from array import*\n",
    "def pairwise_swap(arr):\n",
    "    n=len(arr)\n",
    "   \n",
    "    for i in range (0,n-1):\n",
    "        for j in range(0,n-i-1):\n",
    "            if arr[j] < arr[j+1]:\n",
    "                arr[j],arr[j+1]=arr[j+1],arr[j]\n",
    "\n",
    "                \n",
    "array1=array('i',[64,65,27,36,82,93,56,82,54,35])\n",
    "pairwise_swap(array1)\n",
    "print(\"n\")\n",
    "print(array1)"
   ]
  },
  {
   "cell_type": "code",
   "execution_count": null,
   "id": "1515a22a",
   "metadata": {},
   "outputs": [],
   "source": [
    "# Q-create an array containing 10 numbers break the array into two parts and print individual sub-arrays \n",
    "array2=[1,2,34,53,6,7,23,43,56,65]\n",
    "sub_array1=array2[:5]\n",
    "sub_array2=array2[5:]\n",
    "print('sub_array 1:',sub_array1)\n",
    "print('sub_array 2:',sub_array2)"
   ]
  },
  {
   "cell_type": "code",
   "execution_count": null,
   "id": "145970df",
   "metadata": {},
   "outputs": [],
   "source": [
    "import array \n",
    "from array import*\n",
    "def pairwise_swap(array):\n",
    "    n=len(arr)\n",
    "   \n",
    "    for i in range (0,n-1):\n",
    "        for j in range(0,n-i-1):\n",
    "            if arr[j] > arr[j+1]:\n",
    "                arr[j],arr[j+1]=arr[j+1],arr[j]\n",
    "\n",
    "                \n",
    "arr=array('i',[64,34,25,12])\n",
    "pairwise_swap(arr)\n",
    "print(\"n\")\n",
    "print(arr)"
   ]
  },
  {
   "cell_type": "code",
   "execution_count": null,
   "id": "5cfce850",
   "metadata": {},
   "outputs": [],
   "source": [
    "# python program to split a given array into 3 equal parts\n",
    "array2=[1,2,3,4,5,6,7,8,9,10,11,12,13,14,15]\n",
    "sub_array1=array2[:5]\n",
    "sub_array2=array2[5:10]\n",
    "sub_array3=array2[10:]\n",
    "print('sub_array 1:',sub_array1)\n",
    "print('sub_array 2:',sub_array2)\n",
    "print('sub_array 3:',sub_array3)"
   ]
  },
  {
   "cell_type": "code",
   "execution_count": null,
   "id": "16fe98ac",
   "metadata": {},
   "outputs": [],
   "source": [
    "import array \n",
    "from array import *\n",
    "def selection_sort(array):\n",
    "    n=len(arr)\n",
    "   \n",
    "    for i in range (0,n-1):\n",
    "        min_value=i\n",
    "        for j in range(i+1,n):\n",
    "            if arr[j] < arr[min_value]:\n",
    "                min_value=j          \n",
    "        arr[i],arr[min_value]=arr[min_value],arr[i]\n",
    "\n",
    "                \n",
    "arr=array('i',[34,72,432,232,1,3,5])\n",
    "selection_sort(arr)\n",
    "print(arr)"
   ]
  },
  {
   "cell_type": "code",
   "execution_count": null,
   "id": "0ff2d7ee",
   "metadata": {},
   "outputs": [],
   "source": [
    "# construct array containing 4 integers and find the sum and difference of two largest numbers?\n",
    "import array \n",
    "from array import *\n",
    "array = array('i',[1,5,3,7])\n",
    "array_sorted=sorted(array)\n",
    "print(array_sorted)\n",
    "sum = array_sorted[-1]+array_sorted[-2]\n",
    "print('the sum is:',sum)\n",
    "diff=array_sorted[-1]-array_sorted[-2]\n",
    "print('the difference is: ',diff)\n"
   ]
  },
  {
   "cell_type": "code",
   "execution_count": null,
   "id": "7400e33d",
   "metadata": {},
   "outputs": [],
   "source": [
    "#array containing 4 integers find the sum and difference of two largest numbers?\n",
    "import array \n",
    "from array import*\n",
    "array = array('i',[1,2,3,4])\n",
    "print(array)\n",
    "lagest1=float('inf')\n",
    "lagest2=float('inf')\n",
    "i=0\n",
    "whilei<len(array):\n",
    "    if array[i]>largest1:\n",
    "        largest1"
   ]
  },
  {
   "cell_type": "code",
   "execution_count": null,
   "id": "f170107f",
   "metadata": {},
   "outputs": [],
   "source": [
    "# Ques - construct an array contraing 5 integers wap a progrm to cal the max product possible of th integer?\n",
    "import random\n",
    "array=[random.randint(,9) for _ in range(5)]\n",
    "arr=sorted(array)\n",
    "print(arr)\n",
    "product = arr[-1]*arr[-2]*arr[-3]*arr[-4]*arr[-5]\n",
    "print(product)"
   ]
  },
  {
   "cell_type": "code",
   "execution_count": null,
   "id": "758fc530",
   "metadata": {},
   "outputs": [],
   "source": [
    "# ques - construct an array containing 6 array divide the array into two parts and rejoin the sub elements with 0 in the middle?\n",
    "import array \n",
    "from array import *\n",
    "sub_1=None\n",
    "sub_2= None\n",
    "def divide(array):\n",
    "    global sub_1,sub_2\n",
    "    mid=len(a)//2\n",
    "    sub_1=a[:mid]\n",
    "    sub_2=a[mid:]\n",
    "\n",
    "\n",
    "\n",
    "\n",
    "a = array('i',[1,2,3,4,5,6])\n",
    "divide(a)\n",
    "print(sub_1)\n",
    "print(sub_2)\n",
    "\n",
    "new=array('i',[0])\n",
    "final = sub_1 + new +sub_2\n",
    "print(final)"
   ]
  },
  {
   "cell_type": "code",
   "execution_count": null,
   "id": "5caf6f29",
   "metadata": {},
   "outputs": [],
   "source": [
    "# wap to print fibonacci series\n",
    "n=int(input('enter last number'))\n",
    "x=0\n",
    "y=1\n",
    "z=0\n",
    "while(z<=n):\n",
    "    print(z)\n",
    "    x=y\n",
    "    y=z\n",
    "    z=x+y"
   ]
  },
  {
   "cell_type": "code",
   "execution_count": 8,
   "id": "30bd539f",
   "metadata": {},
   "outputs": [
    {
     "name": "stdout",
     "output_type": "stream",
     "text": [
      "enter 1st no. :3\n",
      "enter 2nd no. :2\n",
      "The sum is : 5\n"
     ]
    }
   ],
   "source": [
    "# addition of two number :\n",
    "first = int(input(\"enter 1st no. :\"))\n",
    "second = int(input(\"enter 2nd no. :\"))\n",
    "sum = first + second\n",
    "print(\"The sum is :\" ,sum)\n"
   ]
  },
  {
   "cell_type": "code",
   "execution_count": 9,
   "id": "2d95b31f",
   "metadata": {},
   "outputs": [
    {
     "name": "stdout",
     "output_type": "stream",
     "text": [
      "5\n"
     ]
    }
   ],
   "source": [
    "a = 2\n",
    "b = 3\n",
    "print(a+b)\n",
    "     "
   ]
  },
  {
   "cell_type": "code",
   "execution_count": 10,
   "id": "347c0c21",
   "metadata": {},
   "outputs": [
    {
     "name": "stdout",
     "output_type": "stream",
     "text": [
      "sum of two numbers is :  5\n"
     ]
    }
   ],
   "source": [
    "num1 = 2\n",
    "num2 = 3\n",
    "sum = num1 + num2\n",
    "print(\"sum of two numbers is : \", sum)\n",
    "     "
   ]
  },
  {
   "cell_type": "code",
   "execution_count": 11,
   "id": "a670e79e",
   "metadata": {},
   "outputs": [
    {
     "name": "stdout",
     "output_type": "stream",
     "text": [
      "multipication of two numbers is :  6\n"
     ]
    }
   ],
   "source": [
    "num1 = 2\n",
    "num2 = 3\n",
    "multiplication = num1 * num2\n",
    "print(\"multipication of two numbers is : \", multiplication)"
   ]
  },
  {
   "cell_type": "code",
   "execution_count": 12,
   "id": "828309c3",
   "metadata": {},
   "outputs": [
    {
     "name": "stdout",
     "output_type": "stream",
     "text": [
      "division of two numbers is :  2.0\n"
     ]
    }
   ],
   "source": [
    "num1 = 6\n",
    "num2 = 3\n",
    "division = num1 / num2\n",
    "print(\"division of two numbers is : \", division)\n",
    "     \n"
   ]
  },
  {
   "cell_type": "code",
   "execution_count": 13,
   "id": "06582653",
   "metadata": {},
   "outputs": [
    {
     "name": "stdout",
     "output_type": "stream",
     "text": [
      "sub of two numbers is :  -1\n"
     ]
    }
   ],
   "source": [
    "num1 = 2\n",
    "num2 = 3\n",
    "sub = num1 - num2\n",
    "print(\"sub of two numbers is : \", sub)"
   ]
  },
  {
   "cell_type": "code",
   "execution_count": 14,
   "id": "da01d675",
   "metadata": {},
   "outputs": [
    {
     "name": "stdout",
     "output_type": "stream",
     "text": [
      "modulus of two numbers is :  1\n"
     ]
    }
   ],
   "source": [
    "num1 = 10\n",
    "num2 = 3\n",
    "modulus = num1 % num2\n",
    "print(\"modulus of two numbers is : \", modulus)"
   ]
  },
  {
   "cell_type": "code",
   "execution_count": 15,
   "id": "e0762b43",
   "metadata": {},
   "outputs": [
    {
     "name": "stdout",
     "output_type": "stream",
     "text": [
      "floor of two numbers is : 7\n"
     ]
    }
   ],
   "source": [
    "num1 = 23\n",
    "num2 = 3\n",
    "floor = num1 // num2\n",
    "print(\"floor of two numbers is :\" , floor)"
   ]
  },
  {
   "cell_type": "code",
   "execution_count": 16,
   "id": "c109020c",
   "metadata": {},
   "outputs": [
    {
     "name": "stdout",
     "output_type": "stream",
     "text": [
      "b is greater than a !\n"
     ]
    }
   ],
   "source": [
    "# que 1\n",
    "a = 2\n",
    "b= 3\n",
    "if a > b:\n",
    "    print(\"a is greater than b !\")\n",
    "else:\n",
    "    print(\"b is greater than a !\")\n",
    "     "
   ]
  },
  {
   "cell_type": "code",
   "execution_count": 17,
   "id": "66f24a36",
   "metadata": {},
   "outputs": [
    {
     "name": "stdout",
     "output_type": "stream",
     "text": [
      "a is equal to b !\n"
     ]
    }
   ],
   "source": [
    "\n",
    "#  elif a==b\n",
    "     \n",
    "\n",
    "a = 10\n",
    "b = 10\n",
    "if a>b:\n",
    "    print(\"a is greater than b !\")\n",
    "elif a==b:\n",
    "    print(\"a is equal to b !\")\n",
    "else:\n",
    "    print(\"b is greater than a ! \")\n",
    "     "
   ]
  },
  {
   "cell_type": "code",
   "execution_count": 19,
   "id": "96ca2b02",
   "metadata": {},
   "outputs": [
    {
     "name": "stdout",
     "output_type": "stream",
     "text": [
      "a is odd\n",
      "a is even\n"
     ]
    }
   ],
   "source": [
    "#   program to check weather the  given no. is even or odd:\n",
    "     \n",
    "\n",
    "a = 3\n",
    "if (a%2)==0:\n",
    "    print(\"a is even\")\n",
    "else:\n",
    "    print(\"a is odd\")\n",
    "\n",
    "     \n",
    "\n",
    "a = 36\n",
    "if (a%2)==0:\n",
    "    print(\"a is even\")\n",
    "else:\n",
    "    print(\"a is odd \")"
   ]
  },
  {
   "cell_type": "code",
   "execution_count": 20,
   "id": "1b2c9b3f",
   "metadata": {},
   "outputs": [
    {
     "name": "stdout",
     "output_type": "stream",
     "text": [
      "enter an integer: 3\n",
      "positive\n"
     ]
    }
   ],
   "source": [
    "#  function that check either a given integer is negetive , positive or zero ?\n",
    "def check_integer(n):\n",
    "    if n>0:\n",
    "        print(\"positive\")\n",
    "    elif n<0:\n",
    "        print(\"negetive\")\n",
    "    else:\n",
    "        print(\"zero\")\n",
    "    \n",
    "num=int(input(\"enter an integer: \"))\n",
    "result=check_integer(num)\n",
    "  "
   ]
  },
  {
   "cell_type": "code",
   "execution_count": 21,
   "id": "5ac16266",
   "metadata": {},
   "outputs": [
    {
     "name": "stdout",
     "output_type": "stream",
     "text": [
      "enter total 3\n",
      "factorial is  6\n"
     ]
    }
   ],
   "source": [
    "#Program to find the factorial\n",
    "\n",
    "i=int(input('enter total '))\n",
    "fact=1\n",
    "while(i>0):\n",
    "    fact=fact*i\n",
    "    i=i-1\n",
    "print(\"factorial is \", fact)"
   ]
  },
  {
   "cell_type": "code",
   "execution_count": null,
   "id": "32bdcb89",
   "metadata": {},
   "outputs": [],
   "source": [
    "temp=int (input(\"enter temp \"))\n",
    "if temp>30:\n",
    "    print(\"it's a hot day\")\n",
    "print(\"it's a beautiful day\")"
   ]
  },
  {
   "cell_type": "code",
   "execution_count": null,
   "id": "e34e357b",
   "metadata": {},
   "outputs": [],
   "source": [
    "temp=int (input(\"enter temp \"))\n",
    "if temp>30:\n",
    "    print(\"it's a hot day\")\n",
    "elif temp>20:\n",
    "    print(\"it's a pleasent day\")\n",
    "print(\"it's a beautiful day\")"
   ]
  },
  {
   "cell_type": "code",
   "execution_count": null,
   "id": "60c66cbc",
   "metadata": {},
   "outputs": [],
   "source": [
    "temp=int (input(\"enter temp \"))\n",
    "if temp>30:\n",
    "    print(\"it's a hot day\")\n",
    "elif temp>20:\n",
    "    print(\"it's a pleasent day\")\n",
    "elif temp>10:\n",
    "    print(\"it's a cold day\")\n",
    "print(\"it's a beautiful day\") "
   ]
  },
  {
   "cell_type": "code",
   "execution_count": null,
   "id": "f429a40f",
   "metadata": {},
   "outputs": [],
   "source": [
    "temp=int (input(\"enter temp \"))\n",
    "if temp>30:\n",
    "    print(\"it's a hot day\")\n",
    "elif temp>20:\n",
    "    print(\"it's a pleasent day\")\n",
    "elif temp>10:\n",
    "    print(\"it's a cold day\")\n",
    "else:\n",
    "    print(\"it's a chilly day\")\n",
    "print(\"it's a beautiful day\")"
   ]
  },
  {
   "cell_type": "code",
   "execution_count": null,
   "id": "cd32ca7e",
   "metadata": {},
   "outputs": [],
   "source": [
    "a= int(input(\"enter marks of 1st subjects\"))\n",
    "b= int(input(\"enter marks of 2nd subjects\")) \n",
    "c= int(input(\"enter marks of 3rd subjects\"))\n",
    "d= int(input(\"enter marks of 4th subjects\"))\n",
    "e= int(input(\"enter marks of 5th subjects\"))\n",
    "total_marks = a+b+c+d+e\n",
    "percentage=(total_marks)/5\n",
    "print(\"the total marks obtained are = \", total_marks)\n",
    "print(\"the percentage is = \", percentage, \"%\")\n",
    "\n",
    "if percentage>95:\n",
    "    print(\"A+\")\n",
    "elif percentage>90:\n",
    "    print(\"A\")\n",
    "elif percentage>80:\n",
    "    print(\"B+\")\n",
    "elif percentage>70:\n",
    "    print(\"B\")\n",
    "elif percentage>60:\n",
    "    print(\"C+\")\n",
    "elif percentage>50:\n",
    "    print(\"C\")\n",
    "elif percentage>40:\n",
    "    print(\"D+\")\n",
    "elif percentage>33:\n",
    "    print(\"D\")\n",
    "else:\n",
    "    print(\"F\")"
   ]
  }
 ],
 "metadata": {
  "kernelspec": {
   "display_name": "Python 3 (ipykernel)",
   "language": "python",
   "name": "python3"
  },
  "language_info": {
   "codemirror_mode": {
    "name": "ipython",
    "version": 3
   },
   "file_extension": ".py",
   "mimetype": "text/x-python",
   "name": "python",
   "nbconvert_exporter": "python",
   "pygments_lexer": "ipython3",
   "version": "3.11.4"
  }
 },
 "nbformat": 4,
 "nbformat_minor": 5
}
