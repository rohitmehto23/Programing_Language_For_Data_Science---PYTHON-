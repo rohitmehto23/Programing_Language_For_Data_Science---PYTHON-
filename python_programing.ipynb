{
 "cells": [
  {
   "cell_type": "code",
   "execution_count": 3,
   "id": "613988f7",
   "metadata": {},
   "outputs": [
    {
     "name": "stdout",
     "output_type": "stream",
     "text": [
      "[1, 2, 3, 4, 5]\n"
     ]
    }
   ],
   "source": [
    "L=[1,2,3,4,5]\n",
    "print(L)"
   ]
  },
  {
   "cell_type": "code",
   "execution_count": 42,
   "id": "8205da6e",
   "metadata": {},
   "outputs": [
    {
     "name": "stdout",
     "output_type": "stream",
     "text": [
      "['a', 'b', 2, 3, 4, 'c']\n"
     ]
    }
   ],
   "source": [
    "L1=['a','b',2,3,4,'c']\n",
    "print(L1)"
   ]
  },
  {
   "cell_type": "code",
   "execution_count": 3,
   "id": "1e4920bd",
   "metadata": {},
   "outputs": [
    {
     "name": "stdout",
     "output_type": "stream",
     "text": [
      "5\n"
     ]
    }
   ],
   "source": [
    "print(len(L))"
   ]
  },
  {
   "cell_type": "code",
   "execution_count": 4,
   "id": "241120df",
   "metadata": {},
   "outputs": [
    {
     "name": "stdout",
     "output_type": "stream",
     "text": [
      "<class 'list'>\n"
     ]
    }
   ],
   "source": [
    "print(type(L))"
   ]
  },
  {
   "cell_type": "code",
   "execution_count": 5,
   "id": "1aef2038",
   "metadata": {},
   "outputs": [
    {
     "name": "stdout",
     "output_type": "stream",
     "text": [
      "<class 'list'>\n"
     ]
    }
   ],
   "source": [
    "print(type(L1))"
   ]
  },
  {
   "cell_type": "code",
   "execution_count": 7,
   "id": "3efc12a1",
   "metadata": {},
   "outputs": [
    {
     "name": "stdout",
     "output_type": "stream",
     "text": [
      "4\n"
     ]
    }
   ],
   "source": [
    "print(L[3])"
   ]
  },
  {
   "cell_type": "code",
   "execution_count": 8,
   "id": "c25cfcc1",
   "metadata": {},
   "outputs": [
    {
     "name": "stdout",
     "output_type": "stream",
     "text": [
      "5\n"
     ]
    }
   ],
   "source": [
    "print(L[-1])"
   ]
  },
  {
   "cell_type": "code",
   "execution_count": 9,
   "id": "9d804000",
   "metadata": {},
   "outputs": [
    {
     "name": "stdout",
     "output_type": "stream",
     "text": [
      "[2, 3, 4]\n"
     ]
    }
   ],
   "source": [
    "print(L[1:4])"
   ]
  },
  {
   "cell_type": "code",
   "execution_count": 11,
   "id": "d21879d8",
   "metadata": {},
   "outputs": [
    {
     "name": "stdout",
     "output_type": "stream",
     "text": [
      "[1, 2]\n"
     ]
    }
   ],
   "source": [
    "print(L[0:2])"
   ]
  },
  {
   "cell_type": "code",
   "execution_count": 12,
   "id": "9159c6c8",
   "metadata": {},
   "outputs": [
    {
     "name": "stdout",
     "output_type": "stream",
     "text": [
      "[3, 4]\n"
     ]
    }
   ],
   "source": [
    "print(L[2:4])"
   ]
  },
  {
   "cell_type": "code",
   "execution_count": 13,
   "id": "f1bbd263",
   "metadata": {},
   "outputs": [
    {
     "name": "stdout",
     "output_type": "stream",
     "text": [
      "[1, 2, 3, 4]\n"
     ]
    }
   ],
   "source": [
    "print(L[0:4])"
   ]
  },
  {
   "cell_type": "code",
   "execution_count": 15,
   "id": "76fd00cd",
   "metadata": {},
   "outputs": [
    {
     "name": "stdout",
     "output_type": "stream",
     "text": [
      "[3, 4, 5]\n"
     ]
    }
   ],
   "source": [
    "print(L[2:5])"
   ]
  },
  {
   "cell_type": "code",
   "execution_count": 19,
   "id": "2f479c83",
   "metadata": {},
   "outputs": [
    {
     "name": "stdout",
     "output_type": "stream",
     "text": [
      "[3, 4, 5]\n"
     ]
    }
   ],
   "source": [
    "print(L[-3:])"
   ]
  },
  {
   "cell_type": "code",
   "execution_count": 4,
   "id": "48d7062f",
   "metadata": {},
   "outputs": [],
   "source": [
    "L.append(6)#append is to add an item to the list at last"
   ]
  },
  {
   "cell_type": "code",
   "execution_count": 5,
   "id": "a2d6fde6",
   "metadata": {},
   "outputs": [
    {
     "name": "stdout",
     "output_type": "stream",
     "text": [
      "[1, 2, 3, 4, 5, 6]\n"
     ]
    }
   ],
   "source": [
    "print(L)"
   ]
  },
  {
   "cell_type": "code",
   "execution_count": 7,
   "id": "84f0866b",
   "metadata": {},
   "outputs": [],
   "source": [
    "L1.append(9)"
   ]
  },
  {
   "cell_type": "code",
   "execution_count": 8,
   "id": "40e82cc2",
   "metadata": {},
   "outputs": [
    {
     "name": "stdout",
     "output_type": "stream",
     "text": [
      "['a', 'b', 2, 3, 4, 'c', 9]\n"
     ]
    }
   ],
   "source": [
    "print(L1)"
   ]
  },
  {
   "cell_type": "code",
   "execution_count": 9,
   "id": "34a27882",
   "metadata": {},
   "outputs": [],
   "source": [
    "#insert "
   ]
  },
  {
   "cell_type": "code",
   "execution_count": 10,
   "id": "e8ceb39c",
   "metadata": {},
   "outputs": [],
   "source": [
    "L.insert(1,'A')"
   ]
  },
  {
   "cell_type": "code",
   "execution_count": 11,
   "id": "1a3c62bc",
   "metadata": {},
   "outputs": [
    {
     "name": "stdout",
     "output_type": "stream",
     "text": [
      "[1, 'A', 2, 3, 4, 5, 6]\n"
     ]
    }
   ],
   "source": [
    "print(L)"
   ]
  },
  {
   "cell_type": "code",
   "execution_count": 4,
   "id": "769c703e",
   "metadata": {},
   "outputs": [],
   "source": [
    "course=['python','stats','mysql']"
   ]
  },
  {
   "cell_type": "code",
   "execution_count": 5,
   "id": "fb18d253",
   "metadata": {},
   "outputs": [
    {
     "name": "stdout",
     "output_type": "stream",
     "text": [
      "['python', 'stats', 'mysql']\n"
     ]
    }
   ],
   "source": [
    "print(course)"
   ]
  },
  {
   "cell_type": "code",
   "execution_count": 6,
   "id": "d4c5c215",
   "metadata": {},
   "outputs": [],
   "source": [
    "company=['TCS','HCL','ORACLE']"
   ]
  },
  {
   "cell_type": "code",
   "execution_count": 7,
   "id": "417e6ce4",
   "metadata": {},
   "outputs": [
    {
     "name": "stdout",
     "output_type": "stream",
     "text": [
      "['TCS', 'HCL', 'ORACLE']\n"
     ]
    }
   ],
   "source": [
    "print(company)"
   ]
  },
  {
   "cell_type": "code",
   "execution_count": 8,
   "id": "a4893441",
   "metadata": {},
   "outputs": [],
   "source": [
    "course.extend(company)#extend:to join two list"
   ]
  },
  {
   "cell_type": "code",
   "execution_count": 9,
   "id": "95069b85",
   "metadata": {},
   "outputs": [
    {
     "name": "stdout",
     "output_type": "stream",
     "text": [
      "['python', 'stats', 'mysql', 'TCS', 'HCL', 'ORACLE']\n"
     ]
    }
   ],
   "source": [
    "print(course)"
   ]
  },
  {
   "cell_type": "code",
   "execution_count": 10,
   "id": "fcbd5d03",
   "metadata": {},
   "outputs": [],
   "source": [
    "course.remove('mysql')"
   ]
  },
  {
   "cell_type": "code",
   "execution_count": 11,
   "id": "fda7240d",
   "metadata": {},
   "outputs": [
    {
     "name": "stdout",
     "output_type": "stream",
     "text": [
      "['python', 'stats', 'TCS', 'HCL', 'ORACLE']\n"
     ]
    }
   ],
   "source": [
    "print(course)"
   ]
  },
  {
   "cell_type": "code",
   "execution_count": 12,
   "id": "518227cd",
   "metadata": {},
   "outputs": [
    {
     "name": "stdout",
     "output_type": "stream",
     "text": [
      "['TCS', 'HCL']\n"
     ]
    }
   ],
   "source": [
    "company.pop()\n",
    "print(company)"
   ]
  },
  {
   "cell_type": "code",
   "execution_count": 22,
   "id": "a4edab09",
   "metadata": {},
   "outputs": [],
   "source": [
    "L8=[1,1,1,2,3,4,5]"
   ]
  },
  {
   "cell_type": "code",
   "execution_count": 23,
   "id": "3d30a6d4",
   "metadata": {},
   "outputs": [
    {
     "name": "stdout",
     "output_type": "stream",
     "text": [
      "[1, 1, 1, 2, 3, 4, 5]\n"
     ]
    }
   ],
   "source": [
    "print(L8)"
   ]
  },
  {
   "cell_type": "code",
   "execution_count": 24,
   "id": "31059a17",
   "metadata": {},
   "outputs": [],
   "source": [
    "L8.remove(1)"
   ]
  },
  {
   "cell_type": "code",
   "execution_count": 25,
   "id": "2629d69b",
   "metadata": {},
   "outputs": [
    {
     "name": "stdout",
     "output_type": "stream",
     "text": [
      "[1, 1, 2, 3, 4, 5]\n"
     ]
    }
   ],
   "source": [
    "print(L8)"
   ]
  },
  {
   "cell_type": "code",
   "execution_count": 26,
   "id": "430d2ce7",
   "metadata": {},
   "outputs": [],
   "source": [
    "L9=[11,1,5,2,3,5,6,7,5,12]"
   ]
  },
  {
   "cell_type": "code",
   "execution_count": 28,
   "id": "0e693840",
   "metadata": {},
   "outputs": [
    {
     "name": "stdout",
     "output_type": "stream",
     "text": [
      "[11, 1, 5, 2, 3, 5, 6, 7, 5, 12]\n"
     ]
    }
   ],
   "source": [
    "print(L9)"
   ]
  },
  {
   "cell_type": "code",
   "execution_count": 32,
   "id": "ce8f7673",
   "metadata": {},
   "outputs": [],
   "source": [
    "L9.remove(5,)#if there are more than 1 item with specific value remove method removes 1st appearence"
   ]
  },
  {
   "cell_type": "code",
   "execution_count": 30,
   "id": "8e30e326",
   "metadata": {},
   "outputs": [
    {
     "name": "stdout",
     "output_type": "stream",
     "text": [
      "[11, 1, 2, 3, 5, 6, 7, 5, 12]\n"
     ]
    }
   ],
   "source": [
    "print(L9)"
   ]
  },
  {
   "cell_type": "code",
   "execution_count": 1,
   "id": "3b3ef007",
   "metadata": {},
   "outputs": [
    {
     "name": "stdout",
     "output_type": "stream",
     "text": [
      "[1, 2, 3]\n"
     ]
    }
   ],
   "source": [
    "L1=[1,2,3]\n",
    "L2=L1.copy()#method 1\n",
    "print(L2)\n"
   ]
  },
  {
   "cell_type": "code",
   "execution_count": 2,
   "id": "2cd41816",
   "metadata": {},
   "outputs": [
    {
     "name": "stdout",
     "output_type": "stream",
     "text": [
      "[4, 5, 6]\n"
     ]
    }
   ],
   "source": [
    "L3=[4,5,6]\n",
    "L4=list(L3)#method 2\n",
    "print(L4)"
   ]
  },
  {
   "cell_type": "code",
   "execution_count": 3,
   "id": "0f4e988c",
   "metadata": {},
   "outputs": [
    {
     "name": "stdout",
     "output_type": "stream",
     "text": [
      "[1, 2, 3, 1, 2, 3, 4, 5, 6]\n"
     ]
    }
   ],
   "source": [
    "L5=L1+L2+L3\n",
    "print(L5)\n"
   ]
  },
  {
   "cell_type": "code",
   "execution_count": 4,
   "id": "be828ac0",
   "metadata": {},
   "outputs": [
    {
     "name": "stdout",
     "output_type": "stream",
     "text": [
      "[1, 2, 3, 1, 2, 3]\n"
     ]
    }
   ],
   "source": [
    "L1.extend(L2)\n",
    "print(L1)"
   ]
  },
  {
   "cell_type": "code",
   "execution_count": 13,
   "id": "aaf10434",
   "metadata": {},
   "outputs": [
    {
     "name": "stdout",
     "output_type": "stream",
     "text": [
      "(1, 2, 3, 4)\n"
     ]
    }
   ],
   "source": [
    "# tuple\n",
    "T1=(1,2,3,4)\n",
    "print(T1)"
   ]
  },
  {
   "cell_type": "code",
   "execution_count": 8,
   "id": "43f30404",
   "metadata": {},
   "outputs": [
    {
     "name": "stdout",
     "output_type": "stream",
     "text": [
      "2\n"
     ]
    }
   ],
   "source": [
    "print(T1[1])"
   ]
  },
  {
   "cell_type": "code",
   "execution_count": 9,
   "id": "10c9b3e3",
   "metadata": {},
   "outputs": [
    {
     "name": "stdout",
     "output_type": "stream",
     "text": [
      "2\n"
     ]
    }
   ],
   "source": [
    "print(T1[-3])"
   ]
  },
  {
   "cell_type": "code",
   "execution_count": 12,
   "id": "9b49643d",
   "metadata": {},
   "outputs": [],
   "source": [
    "subjects=(\"nlp\",\"dl\",\"ml\",\"ai\",\"python\",\"sql\")"
   ]
  },
  {
   "cell_type": "code",
   "execution_count": 13,
   "id": "b325b117",
   "metadata": {},
   "outputs": [
    {
     "name": "stdout",
     "output_type": "stream",
     "text": [
      "('nlp', 'dl', 'ml', 'ai', 'python', 'sql')\n"
     ]
    }
   ],
   "source": [
    "print(subjects)"
   ]
  },
  {
   "cell_type": "code",
   "execution_count": 14,
   "id": "183eddb7",
   "metadata": {},
   "outputs": [
    {
     "name": "stdout",
     "output_type": "stream",
     "text": [
      "('ml', 'ai', 'python')\n"
     ]
    }
   ],
   "source": [
    "print(subjects[2:5])"
   ]
  },
  {
   "cell_type": "code",
   "execution_count": 16,
   "id": "1a14b8f5",
   "metadata": {},
   "outputs": [
    {
     "name": "stdout",
     "output_type": "stream",
     "text": [
      "('nlp', 'dl', 'ml')\n"
     ]
    }
   ],
   "source": [
    "print(subjects[:3])"
   ]
  },
  {
   "cell_type": "code",
   "execution_count": 18,
   "id": "d0217097",
   "metadata": {},
   "outputs": [
    {
     "name": "stdout",
     "output_type": "stream",
     "text": [
      "('ai', 'python', 'sql')\n"
     ]
    }
   ],
   "source": [
    "print(subjects[3:])"
   ]
  },
  {
   "cell_type": "code",
   "execution_count": 20,
   "id": "020ee864",
   "metadata": {},
   "outputs": [],
   "source": [
    "Y=list(T1)"
   ]
  },
  {
   "cell_type": "code",
   "execution_count": 22,
   "id": "3aa3cf52",
   "metadata": {},
   "outputs": [
    {
     "name": "stdout",
     "output_type": "stream",
     "text": [
      "[1, 2, 3, 4]\n"
     ]
    }
   ],
   "source": [
    "print(Y)"
   ]
  },
  {
   "cell_type": "code",
   "execution_count": 23,
   "id": "29179134",
   "metadata": {},
   "outputs": [],
   "source": [
    "Y[1]=5"
   ]
  },
  {
   "cell_type": "code",
   "execution_count": 24,
   "id": "fe5c4cdb",
   "metadata": {},
   "outputs": [
    {
     "name": "stdout",
     "output_type": "stream",
     "text": [
      "[1, 5, 3, 4]\n"
     ]
    }
   ],
   "source": [
    "print(Y)"
   ]
  },
  {
   "cell_type": "code",
   "execution_count": 27,
   "id": "b773333d",
   "metadata": {},
   "outputs": [],
   "source": [
    "T1=tuple(Y)"
   ]
  },
  {
   "cell_type": "code",
   "execution_count": 28,
   "id": "96a04a1f",
   "metadata": {},
   "outputs": [
    {
     "name": "stdout",
     "output_type": "stream",
     "text": [
      "[1, 5, 3, 4]\n"
     ]
    }
   ],
   "source": [
    "print(Y)"
   ]
  },
  {
   "cell_type": "code",
   "execution_count": 29,
   "id": "10b1be99",
   "metadata": {},
   "outputs": [],
   "source": [
    "s=list(T1)"
   ]
  },
  {
   "cell_type": "code",
   "execution_count": 30,
   "id": "bd512ffc",
   "metadata": {},
   "outputs": [
    {
     "name": "stdout",
     "output_type": "stream",
     "text": [
      "[1, 5, 3, 4]\n"
     ]
    }
   ],
   "source": [
    "print(s)"
   ]
  },
  {
   "cell_type": "code",
   "execution_count": 31,
   "id": "4ef46645",
   "metadata": {},
   "outputs": [],
   "source": [
    "s.append(8)"
   ]
  },
  {
   "cell_type": "code",
   "execution_count": 32,
   "id": "666ac242",
   "metadata": {},
   "outputs": [
    {
     "name": "stdout",
     "output_type": "stream",
     "text": [
      "[1, 5, 3, 4, 8]\n"
     ]
    }
   ],
   "source": [
    "print(s)"
   ]
  },
  {
   "cell_type": "code",
   "execution_count": 33,
   "id": "7971a0e1",
   "metadata": {},
   "outputs": [],
   "source": [
    "T1=tuple(s)"
   ]
  },
  {
   "cell_type": "code",
   "execution_count": 34,
   "id": "3ae3b5ee",
   "metadata": {},
   "outputs": [
    {
     "name": "stdout",
     "output_type": "stream",
     "text": [
      "(1, 5, 3, 4, 8)\n"
     ]
    }
   ],
   "source": [
    "print(T1)"
   ]
  },
  {
   "cell_type": "code",
   "execution_count": 1,
   "id": "fec8d70a",
   "metadata": {},
   "outputs": [],
   "source": [
    "t5=(2,)"
   ]
  },
  {
   "cell_type": "code",
   "execution_count": 2,
   "id": "957c2db9",
   "metadata": {},
   "outputs": [
    {
     "name": "stdout",
     "output_type": "stream",
     "text": [
      "(2,)\n"
     ]
    }
   ],
   "source": [
    "print(t5)"
   ]
  },
  {
   "cell_type": "code",
   "execution_count": 4,
   "id": "62b80725",
   "metadata": {},
   "outputs": [],
   "source": [
    "T2=('a','b',1,3,6,7)"
   ]
  },
  {
   "cell_type": "code",
   "execution_count": 5,
   "id": "057a95d8",
   "metadata": {},
   "outputs": [
    {
     "name": "stdout",
     "output_type": "stream",
     "text": [
      "('a', 'b', 1, 3, 6, 7)\n"
     ]
    }
   ],
   "source": [
    "print(T2)"
   ]
  },
  {
   "cell_type": "code",
   "execution_count": 6,
   "id": "70f95065",
   "metadata": {},
   "outputs": [],
   "source": [
    "R=list(T2)"
   ]
  },
  {
   "cell_type": "code",
   "execution_count": 7,
   "id": "b0f31581",
   "metadata": {},
   "outputs": [
    {
     "name": "stdout",
     "output_type": "stream",
     "text": [
      "['a', 'b', 1, 3, 6, 7]\n"
     ]
    }
   ],
   "source": [
    "print(R)"
   ]
  },
  {
   "cell_type": "code",
   "execution_count": 8,
   "id": "02d51a17",
   "metadata": {},
   "outputs": [],
   "source": [
    "R.remove('a')"
   ]
  },
  {
   "cell_type": "code",
   "execution_count": 9,
   "id": "5b3cc9fa",
   "metadata": {},
   "outputs": [
    {
     "name": "stdout",
     "output_type": "stream",
     "text": [
      "['b', 1, 3, 6, 7]\n"
     ]
    }
   ],
   "source": [
    "print(R)"
   ]
  },
  {
   "cell_type": "code",
   "execution_count": 10,
   "id": "2caf31c2",
   "metadata": {},
   "outputs": [],
   "source": [
    "T2=tuple(R)"
   ]
  },
  {
   "cell_type": "code",
   "execution_count": 11,
   "id": "8ed93856",
   "metadata": {},
   "outputs": [
    {
     "name": "stdout",
     "output_type": "stream",
     "text": [
      "('b', 1, 3, 6, 7)\n"
     ]
    }
   ],
   "source": [
    "print(T2)"
   ]
  },
  {
   "cell_type": "code",
   "execution_count": 14,
   "id": "3719b7fc",
   "metadata": {},
   "outputs": [],
   "source": [
    "T2=T2+T1"
   ]
  },
  {
   "cell_type": "code",
   "execution_count": 15,
   "id": "3a39114f",
   "metadata": {},
   "outputs": [
    {
     "name": "stdout",
     "output_type": "stream",
     "text": [
      "('b', 1, 3, 6, 7, 1, 2, 3, 4)\n"
     ]
    }
   ],
   "source": [
    "print(T2)"
   ]
  },
  {
   "cell_type": "code",
   "execution_count": 16,
   "id": "63993258",
   "metadata": {},
   "outputs": [],
   "source": [
    "T3=(8,9,1)"
   ]
  },
  {
   "cell_type": "code",
   "execution_count": 17,
   "id": "bc253fe5",
   "metadata": {},
   "outputs": [],
   "source": [
    "T4=T2+T3"
   ]
  },
  {
   "cell_type": "code",
   "execution_count": 23,
   "id": "a9105a10",
   "metadata": {},
   "outputs": [
    {
     "name": "stdout",
     "output_type": "stream",
     "text": [
      "('b', 1, 3, 6, 7, 1, 2, 3, 4, 8, 9, 1)\n"
     ]
    }
   ],
   "source": [
    "print(T4)"
   ]
  },
  {
   "cell_type": "code",
   "execution_count": 19,
   "id": "a04e91fd",
   "metadata": {},
   "outputs": [],
   "source": [
    "# multiply tuples\n",
    "malls=('DLF','GIP','LOGIXS')"
   ]
  },
  {
   "cell_type": "code",
   "execution_count": 20,
   "id": "1c5191cf",
   "metadata": {},
   "outputs": [],
   "source": [
    "shop=malls*2"
   ]
  },
  {
   "cell_type": "code",
   "execution_count": 21,
   "id": "1adac5e2",
   "metadata": {},
   "outputs": [
    {
     "name": "stdout",
     "output_type": "stream",
     "text": [
      "('DLF', 'GIP', 'LOGIXS', 'DLF', 'GIP', 'LOGIXS')\n"
     ]
    }
   ],
   "source": [
    "print(shop)"
   ]
  },
  {
   "cell_type": "code",
   "execution_count": 27,
   "id": "c200c08b",
   "metadata": {},
   "outputs": [],
   "source": [
    "T5=(23,4,5,5,6,63,2,23)"
   ]
  },
  {
   "cell_type": "code",
   "execution_count": 29,
   "id": "510c07b8",
   "metadata": {},
   "outputs": [
    {
     "name": "stdout",
     "output_type": "stream",
     "text": [
      "63\n"
     ]
    }
   ],
   "source": [
    "print(max(T5))"
   ]
  },
  {
   "cell_type": "code",
   "execution_count": 30,
   "id": "e2bd86af",
   "metadata": {},
   "outputs": [
    {
     "name": "stdout",
     "output_type": "stream",
     "text": [
      "2\n"
     ]
    }
   ],
   "source": [
    "print(min(T5))"
   ]
  },
  {
   "cell_type": "code",
   "execution_count": 31,
   "id": "a467032f",
   "metadata": {},
   "outputs": [
    {
     "name": "stdout",
     "output_type": "stream",
     "text": [
      "131\n"
     ]
    }
   ],
   "source": [
    "print(sum(T5))"
   ]
  },
  {
   "cell_type": "code",
   "execution_count": 35,
   "id": "7c6ce483",
   "metadata": {},
   "outputs": [
    {
     "name": "stdout",
     "output_type": "stream",
     "text": [
      "True\n"
     ]
    }
   ],
   "source": [
    "S={1,2,3,4}\n",
    "print(2 in S)"
   ]
  },
  {
   "cell_type": "code",
   "execution_count": 36,
   "id": "a7d631ef",
   "metadata": {},
   "outputs": [],
   "source": [
    "#add item in set\n",
    "S.add(5)"
   ]
  },
  {
   "cell_type": "code",
   "execution_count": 37,
   "id": "089493f5",
   "metadata": {},
   "outputs": [
    {
     "name": "stdout",
     "output_type": "stream",
     "text": [
      "{1, 2, 3, 4, 5}\n"
     ]
    }
   ],
   "source": [
    "print(S)"
   ]
  },
  {
   "cell_type": "code",
   "execution_count": 38,
   "id": "141c3826",
   "metadata": {},
   "outputs": [],
   "source": [
    "#add one set to another set\n",
    "S1={'a','b'}\n",
    "S2={3,6,7}"
   ]
  },
  {
   "cell_type": "code",
   "execution_count": 39,
   "id": "7f6b0e91",
   "metadata": {},
   "outputs": [],
   "source": [
    "S2.update(S1)"
   ]
  },
  {
   "cell_type": "code",
   "execution_count": 40,
   "id": "43a0c741",
   "metadata": {},
   "outputs": [
    {
     "name": "stdout",
     "output_type": "stream",
     "text": [
      "{3, 'a', 6, 7, 'b'}\n"
     ]
    }
   ],
   "source": [
    "print(S2)"
   ]
  },
  {
   "cell_type": "code",
   "execution_count": 46,
   "id": "db71a4cd",
   "metadata": {},
   "outputs": [],
   "source": [
    "# add list to set\n",
    "S3={1,7}\n",
    "L1=[9,8]\n",
    "S3.update(L1)"
   ]
  },
  {
   "cell_type": "code",
   "execution_count": 48,
   "id": "ae4549c5",
   "metadata": {},
   "outputs": [
    {
     "name": "stdout",
     "output_type": "stream",
     "text": [
      "{8, 1, 9, 7}\n"
     ]
    }
   ],
   "source": [
    "print(S3)"
   ]
  },
  {
   "cell_type": "code",
   "execution_count": 50,
   "id": "6abb0784",
   "metadata": {},
   "outputs": [],
   "source": [
    "#n remove items from set\n",
    "S3.remove(9)"
   ]
  },
  {
   "cell_type": "code",
   "execution_count": 51,
   "id": "87e242b5",
   "metadata": {},
   "outputs": [
    {
     "name": "stdout",
     "output_type": "stream",
     "text": [
      "{8, 1, 7}\n"
     ]
    }
   ],
   "source": [
    "print(S3)"
   ]
  },
  {
   "cell_type": "code",
   "execution_count": 52,
   "id": "23f187d8",
   "metadata": {},
   "outputs": [],
   "source": [
    "S3.discard(1)"
   ]
  },
  {
   "cell_type": "code",
   "execution_count": 53,
   "id": "d1adb82b",
   "metadata": {},
   "outputs": [
    {
     "name": "stdout",
     "output_type": "stream",
     "text": [
      "{8, 7}\n"
     ]
    }
   ],
   "source": [
    "print(S3)"
   ]
  },
  {
   "cell_type": "code",
   "execution_count": 1,
   "id": "382cb218",
   "metadata": {},
   "outputs": [],
   "source": [
    "S4={'a','b','c'}\n",
    "S5={1,2,3,4}\n",
    "S6=S4.union(S5)"
   ]
  },
  {
   "cell_type": "code",
   "execution_count": 2,
   "id": "5b92efe4",
   "metadata": {},
   "outputs": [
    {
     "name": "stdout",
     "output_type": "stream",
     "text": [
      "{1, 2, 3, 4, 'a', 'c', 'b'}\n"
     ]
    }
   ],
   "source": [
    "print(S6)"
   ]
  },
  {
   "cell_type": "code",
   "execution_count": 3,
   "id": "02d9c34b",
   "metadata": {},
   "outputs": [
    {
     "name": "stdout",
     "output_type": "stream",
     "text": [
      "hello\n"
     ]
    }
   ],
   "source": [
    "# strings\n",
    "X='hello'\n",
    "print(X)"
   ]
  },
  {
   "cell_type": "code",
   "execution_count": 5,
   "id": "9713c54f",
   "metadata": {},
   "outputs": [
    {
     "name": "stdout",
     "output_type": "stream",
     "text": [
      "Hello\n"
     ]
    }
   ],
   "source": [
    "Y=\"Hello\"\n",
    "print(Y)"
   ]
  },
  {
   "cell_type": "code",
   "execution_count": 8,
   "id": "fc8e5d3f",
   "metadata": {},
   "outputs": [
    {
     "name": "stdout",
     "output_type": "stream",
     "text": [
      " rohit\n",
      "     mehto\n",
      "     is a super boy \n"
     ]
    }
   ],
   "source": [
    "P=\"\"\" rohit\n",
    "     mehto\n",
    "     is a super boy \"\"\"\n",
    "print(P)"
   ]
  },
  {
   "cell_type": "code",
   "execution_count": 3,
   "id": "6ea4bea3",
   "metadata": {},
   "outputs": [
    {
     "name": "stdout",
     "output_type": "stream",
     "text": [
      "llo\n"
     ]
    }
   ],
   "source": [
    "X='Hello, world!'\n",
    "print(X[2:5])"
   ]
  },
  {
   "cell_type": "code",
   "execution_count": 4,
   "id": "66a89a0e",
   "metadata": {},
   "outputs": [
    {
     "name": "stdout",
     "output_type": "stream",
     "text": [
      "Hello\n"
     ]
    }
   ],
   "source": [
    "print(X[:5])"
   ]
  },
  {
   "cell_type": "code",
   "execution_count": 9,
   "id": "03cc4e21",
   "metadata": {},
   "outputs": [
    {
     "name": "stdout",
     "output_type": "stream",
     "text": [
      "orl\n"
     ]
    }
   ],
   "source": [
    "print(X[-5:-2])"
   ]
  },
  {
   "cell_type": "code",
   "execution_count": 10,
   "id": "cd37cbb5",
   "metadata": {},
   "outputs": [
    {
     "name": "stdout",
     "output_type": "stream",
     "text": [
      "HELLO, WORLD!\n"
     ]
    }
   ],
   "source": [
    "# modify string\n",
    "print(X.upper())"
   ]
  },
  {
   "cell_type": "code",
   "execution_count": 11,
   "id": "9f82dfa9",
   "metadata": {},
   "outputs": [
    {
     "name": "stdout",
     "output_type": "stream",
     "text": [
      "hello, world!\n"
     ]
    }
   ],
   "source": [
    "print(X.lower())"
   ]
  },
  {
   "cell_type": "code",
   "execution_count": 12,
   "id": "f1767a50",
   "metadata": {},
   "outputs": [
    {
     "name": "stdout",
     "output_type": "stream",
     "text": [
      "Yello, world!\n"
     ]
    }
   ],
   "source": [
    "print(X.replace(\"H\",\"Y\"))"
   ]
  },
  {
   "cell_type": "code",
   "execution_count": 13,
   "id": "a1073402",
   "metadata": {},
   "outputs": [
    {
     "name": "stdout",
     "output_type": "stream",
     "text": [
      "['Hello', ' world!']\n"
     ]
    }
   ],
   "source": [
    "print(X.split(\",\"))"
   ]
  },
  {
   "cell_type": "code",
   "execution_count": 16,
   "id": "5294be6b",
   "metadata": {},
   "outputs": [
    {
     "name": "stdout",
     "output_type": "stream",
     "text": [
      "AAFT SODS\n"
     ]
    }
   ],
   "source": [
    "P=\"AAFT\"\n",
    "Q=\" SODS\"\n",
    "R=P+Q\n",
    "#R=P+\" \"+Q\n",
    "print(R)"
   ]
  },
  {
   "cell_type": "code",
   "execution_count": 18,
   "id": "9296b364",
   "metadata": {},
   "outputs": [
    {
     "name": "stdout",
     "output_type": "stream",
     "text": [
      "My name is john, and I am 22 years old\n"
     ]
    }
   ],
   "source": [
    "# string format-we csn combile strings and number by using format method\n",
    "age=22\n",
    "txt=\"My name is john, and I am {} years old\"\n",
    "print(txt.format(age))"
   ]
  },
  {
   "cell_type": "code",
   "execution_count": 20,
   "id": "3040f8ab",
   "metadata": {},
   "outputs": [
    {
     "name": "stdout",
     "output_type": "stream",
     "text": [
      "Hello, world!\n"
     ]
    }
   ],
   "source": [
    "print(X.capitalize())"
   ]
  },
  {
   "cell_type": "code",
   "execution_count": 21,
   "id": "7a5f615f",
   "metadata": {},
   "outputs": [
    {
     "name": "stdout",
     "output_type": "stream",
     "text": [
      "Hello, World!\n"
     ]
    }
   ],
   "source": [
    "print(X.title())"
   ]
  },
  {
   "cell_type": "code",
   "execution_count": 4,
   "id": "54ea762f",
   "metadata": {},
   "outputs": [],
   "source": [
    "# dictionary\n",
    "car_dict={'brand':'ford','model':'mustang','year':1998}"
   ]
  },
  {
   "cell_type": "code",
   "execution_count": 2,
   "id": "0c8de556",
   "metadata": {},
   "outputs": [
    {
     "name": "stdout",
     "output_type": "stream",
     "text": [
      "{'brand': 'ford', 'model': 'mustang', 'year': 1998}\n"
     ]
    }
   ],
   "source": [
    "print(car_dict)"
   ]
  },
  {
   "cell_type": "code",
   "execution_count": 14,
   "id": "f0cf640c",
   "metadata": {},
   "outputs": [
    {
     "name": "stdout",
     "output_type": "stream",
     "text": [
      "ford\n"
     ]
    }
   ],
   "source": [
    "# print the brand value of the dictionary?\n",
    "print(car_dict['brand'])"
   ]
  },
  {
   "cell_type": "code",
   "execution_count": 15,
   "id": "086fbd03",
   "metadata": {},
   "outputs": [],
   "source": [
    "car_dict={'brand':'ford','model':'mustang','year':1998,'year':2022}"
   ]
  },
  {
   "cell_type": "code",
   "execution_count": 16,
   "id": "9278eea0",
   "metadata": {},
   "outputs": [
    {
     "name": "stdout",
     "output_type": "stream",
     "text": [
      "{'brand': 'ford', 'model': 'mustang', 'year': 2022}\n"
     ]
    }
   ],
   "source": [
    "print(car_dict)"
   ]
  },
  {
   "cell_type": "code",
   "execution_count": 19,
   "id": "09a0bc25",
   "metadata": {},
   "outputs": [
    {
     "name": "stdout",
     "output_type": "stream",
     "text": [
      "3\n"
     ]
    }
   ],
   "source": [
    "print(len(car_dict))"
   ]
  },
  {
   "cell_type": "code",
   "execution_count": 21,
   "id": "bd8b76d8",
   "metadata": {},
   "outputs": [
    {
     "name": "stdout",
     "output_type": "stream",
     "text": [
      "<class 'dict'>\n"
     ]
    }
   ],
   "source": [
    "print(type(car_dict))"
   ]
  },
  {
   "cell_type": "code",
   "execution_count": 22,
   "id": "cb205d74",
   "metadata": {},
   "outputs": [
    {
     "name": "stdout",
     "output_type": "stream",
     "text": [
      "mustang\n"
     ]
    }
   ],
   "source": [
    "#axis dictionary items\n",
    "print(car_dict['model'])"
   ]
  },
  {
   "cell_type": "code",
   "execution_count": 23,
   "id": "ecb3f594",
   "metadata": {},
   "outputs": [
    {
     "name": "stdout",
     "output_type": "stream",
     "text": [
      "mustang\n"
     ]
    }
   ],
   "source": [
    "# other method\n",
    "X=car_dict['model']\n",
    "print(X)"
   ]
  },
  {
   "cell_type": "code",
   "execution_count": 24,
   "id": "55b580a3",
   "metadata": {},
   "outputs": [
    {
     "name": "stdout",
     "output_type": "stream",
     "text": [
      "mustang\n"
     ]
    }
   ],
   "source": [
    "# another method(get method)\n",
    "X=car_dict.get('model')\n",
    "print(X)"
   ]
  },
  {
   "cell_type": "code",
   "execution_count": 25,
   "id": "5c578449",
   "metadata": {},
   "outputs": [
    {
     "name": "stdout",
     "output_type": "stream",
     "text": [
      "dict_keys(['brand', 'model', 'year'])\n"
     ]
    }
   ],
   "source": [
    "# keys method\n",
    "print(car_dict.keys())"
   ]
  },
  {
   "cell_type": "code",
   "execution_count": 26,
   "id": "859502aa",
   "metadata": {},
   "outputs": [
    {
     "name": "stdout",
     "output_type": "stream",
     "text": [
      "dict_keys(['brand', 'model', 'year'])\n"
     ]
    }
   ],
   "source": [
    "# and\n",
    "X=car_dict.keys()\n",
    "print(X)"
   ]
  },
  {
   "cell_type": "code",
   "execution_count": 29,
   "id": "862f9a4c",
   "metadata": {},
   "outputs": [
    {
     "name": "stdout",
     "output_type": "stream",
     "text": [
      "{'brand': 'ford', 'model': 'mustang', 'year': 2022, 'color': 'zed_black'}\n"
     ]
    }
   ],
   "source": [
    "# to add new item to the dictionary \n",
    "car_dict['color']='zed_black'\n",
    "print(car_dict)"
   ]
  },
  {
   "cell_type": "code",
   "execution_count": 31,
   "id": "cc6c4325",
   "metadata": {},
   "outputs": [
    {
     "name": "stdout",
     "output_type": "stream",
     "text": [
      "{'veg1': 'potato', 'veg2': 'tomato', 'veg3': 'capsicum'}\n"
     ]
    }
   ],
   "source": [
    "veg_dict={'veg1':'potato','veg2':'tomato','veg3':'capsicum'}\n",
    "print(veg_dict)"
   ]
  },
  {
   "cell_type": "code",
   "execution_count": 32,
   "id": "c7a000c8",
   "metadata": {},
   "outputs": [
    {
     "name": "stdout",
     "output_type": "stream",
     "text": [
      "dict_keys(['veg1', 'veg2', 'veg3'])\n"
     ]
    }
   ],
   "source": [
    "X=veg_dict.keys()\n",
    "print(X) # before change"
   ]
  },
  {
   "cell_type": "code",
   "execution_count": 33,
   "id": "367f85dd",
   "metadata": {},
   "outputs": [
    {
     "name": "stdout",
     "output_type": "stream",
     "text": [
      "dict_keys(['veg1', 'veg2', 'veg3', 'veg4'])\n"
     ]
    }
   ],
   "source": [
    "veg_dict['veg4']='cabage'\n",
    "print(X) # after change"
   ]
  },
  {
   "cell_type": "code",
   "execution_count": 15,
   "id": "b1669d85",
   "metadata": {},
   "outputs": [
    {
     "name": "stdout",
     "output_type": "stream",
     "text": [
      "dict_values(['ford', 'mustang', 2020])\n"
     ]
    }
   ],
   "source": [
    "print(car_dict.values())"
   ]
  },
  {
   "cell_type": "code",
   "execution_count": 14,
   "id": "01b54595",
   "metadata": {},
   "outputs": [
    {
     "name": "stdout",
     "output_type": "stream",
     "text": [
      "dict_items([('brand', 'ford'), ('model', 'mustang'), ('year', 2020)])\n"
     ]
    }
   ],
   "source": [
    "print(car_dict.items())"
   ]
  },
  {
   "cell_type": "code",
   "execution_count": 7,
   "id": "234c2e71",
   "metadata": {},
   "outputs": [],
   "source": [
    "# change values \n",
    "car_dict['year']=2023"
   ]
  },
  {
   "cell_type": "code",
   "execution_count": 8,
   "id": "8eea2c65",
   "metadata": {},
   "outputs": [
    {
     "name": "stdout",
     "output_type": "stream",
     "text": [
      "{'brand': 'ford', 'model': 'mustang', 'year': 2023}\n"
     ]
    }
   ],
   "source": [
    "print(car_dict)"
   ]
  },
  {
   "cell_type": "code",
   "execution_count": 12,
   "id": "035601f6",
   "metadata": {},
   "outputs": [],
   "source": [
    "# other method\n",
    "car_dict.update({'year':2020})"
   ]
  },
  {
   "cell_type": "code",
   "execution_count": 13,
   "id": "2136e97d",
   "metadata": {},
   "outputs": [
    {
     "name": "stdout",
     "output_type": "stream",
     "text": [
      "{'brand': 'ford', 'model': 'mustang', 'year': 2020}\n"
     ]
    }
   ],
   "source": [
    "print(car_dict)"
   ]
  },
  {
   "cell_type": "code",
   "execution_count": 16,
   "id": "1df7c536",
   "metadata": {},
   "outputs": [
    {
     "name": "stdout",
     "output_type": "stream",
     "text": [
      "2020\n"
     ]
    }
   ],
   "source": [
    "# to delete item # pop method removes items with key name\n",
    "print(car_dict.pop('year'))"
   ]
  },
  {
   "cell_type": "code",
   "execution_count": 19,
   "id": "a50d4fbd",
   "metadata": {},
   "outputs": [
    {
     "name": "stdout",
     "output_type": "stream",
     "text": [
      "<built-in method popitem of dict object at 0x0000028DFE6E97C0>\n"
     ]
    }
   ],
   "source": [
    "print(car_dict.popitem)"
   ]
  },
  {
   "cell_type": "code",
   "execution_count": 1,
   "id": "89dc5bb3",
   "metadata": {},
   "outputs": [
    {
     "ename": "NameError",
     "evalue": "name 'car_dict' is not defined",
     "output_type": "error",
     "traceback": [
      "\u001b[1;31m---------------------------------------------------------------------------\u001b[0m",
      "\u001b[1;31mNameError\u001b[0m                                 Traceback (most recent call last)",
      "Cell \u001b[1;32mIn[1], line 1\u001b[0m\n\u001b[1;32m----> 1\u001b[0m \u001b[38;5;28;01mdel\u001b[39;00m car_dict[\u001b[38;5;124m'\u001b[39m\u001b[38;5;124mmodel\u001b[39m\u001b[38;5;124m'\u001b[39m]\n",
      "\u001b[1;31mNameError\u001b[0m: name 'car_dict' is not defined"
     ]
    }
   ],
   "source": [
    "del car_dict['model']"
   ]
  },
  {
   "cell_type": "code",
   "execution_count": 25,
   "id": "e4dcaad8",
   "metadata": {},
   "outputs": [
    {
     "name": "stdout",
     "output_type": "stream",
     "text": [
      "{'brand': 'ford'}\n"
     ]
    }
   ],
   "source": [
    "print(car_dict)"
   ]
  },
  {
   "cell_type": "code",
   "execution_count": 39,
   "id": "ffca9d34",
   "metadata": {},
   "outputs": [],
   "source": [
    "dicw={'name':'rohit','class':12}"
   ]
  },
  {
   "cell_type": "code",
   "execution_count": 40,
   "id": "e85f19c9",
   "metadata": {},
   "outputs": [
    {
     "name": "stdout",
     "output_type": "stream",
     "text": [
      "{'name': 'rohit', 'class': 12}\n"
     ]
    }
   ],
   "source": [
    "print(dicw)"
   ]
  },
  {
   "cell_type": "code",
   "execution_count": 38,
   "id": "fed506bc",
   "metadata": {},
   "outputs": [],
   "source": [
    "#to delete the dictionary\n",
    "del dicw"
   ]
  },
  {
   "cell_type": "code",
   "execution_count": 44,
   "id": "9f5f8cf1",
   "metadata": {},
   "outputs": [],
   "source": [
    "#method 1\n",
    "dict1=dict(dicw)"
   ]
  },
  {
   "cell_type": "code",
   "execution_count": 45,
   "id": "8e923321",
   "metadata": {},
   "outputs": [
    {
     "name": "stdout",
     "output_type": "stream",
     "text": [
      "{'name': 'rohit', 'class': 12}\n"
     ]
    }
   ],
   "source": [
    "print(dict1)"
   ]
  },
  {
   "cell_type": "code",
   "execution_count": 46,
   "id": "2f8af433",
   "metadata": {},
   "outputs": [],
   "source": [
    "#method 2\n",
    "dict1=dicw.copy()"
   ]
  },
  {
   "cell_type": "code",
   "execution_count": 47,
   "id": "9b8e76c8",
   "metadata": {},
   "outputs": [
    {
     "name": "stdout",
     "output_type": "stream",
     "text": [
      "{'name': 'rohit', 'class': 12}\n"
     ]
    }
   ],
   "source": [
    "print(dict1)"
   ]
  },
  {
   "cell_type": "code",
   "execution_count": 52,
   "id": "97bb171b",
   "metadata": {},
   "outputs": [],
   "source": [
    "# nested dictionary -a dictionary can contain more dictonaries is called nested disctionary \n",
    "# Q-\n",
    "myfamily={'member':{'name':'a','age':20},'member2':{'name':'b','age':45},'member3':{'name':'c','age':28}}"
   ]
  },
  {
   "cell_type": "code",
   "execution_count": 53,
   "id": "1e3d11a3",
   "metadata": {},
   "outputs": [
    {
     "name": "stdout",
     "output_type": "stream",
     "text": [
      "{'member': {'name': 'a', 'age': 20}, 'member2': {'name': 'b', 'age': 45}, 'member3': {'name': 'c', 'age': 28}}\n"
     ]
    }
   ],
   "source": [
    "print(myfamily)"
   ]
  },
  {
   "cell_type": "code",
   "execution_count": null,
   "id": "251fbeec",
   "metadata": {},
   "outputs": [],
   "source": [
    "# addition of two numbers\n",
    "a=input(\"enter first number \")\n",
    "b=input(\"enter second number \")\n",
    "sum=int(a)+int(b)\n",
    "print(\"sum of two numbers : \", sum)"
   ]
  },
  {
   "cell_type": "code",
   "execution_count": 1,
   "id": "1a2503b1",
   "metadata": {},
   "outputs": [
    {
     "name": "stdout",
     "output_type": "stream",
     "text": [
      "enter first number 2\n",
      "enter second number 23\n",
      "substraction of two number is :  -21\n"
     ]
    }
   ],
   "source": [
    "#substraction of two numbers\n",
    "a=input(\"enter first number \")\n",
    "b=input(\"enter second number \")\n",
    "subs=int(a)-int(b)\n",
    "print(\"substraction of two number is : \",subs)"
   ]
  },
  {
   "cell_type": "code",
   "execution_count": null,
   "id": "8e17991c",
   "metadata": {},
   "outputs": [],
   "source": [
    "# division of two numbers\n",
    "a=input(\"enter first number \")\n",
    "b=input(\"enter second number \")\n",
    "div=int(a)/int(b)\n",
    "print(\"division of two number is : \",div)"
   ]
  },
  {
   "cell_type": "code",
   "execution_count": 1,
   "id": "952c6381",
   "metadata": {},
   "outputs": [
    {
     "name": "stdout",
     "output_type": "stream",
     "text": [
      "enter first number 3\n",
      "enter second number 4\n",
      "b is greater\n"
     ]
    }
   ],
   "source": [
    "#write a program to find two values which one is greater\n",
    "a=input(\"enter first number \")\n",
    "b=input(\"enter second number \")\n",
    "if a>b:\n",
    "    print(\"a is greater\")\n",
    "else:\n",
    "    print(\"b is greater\")"
   ]
  },
  {
   "cell_type": "code",
   "execution_count": null,
   "id": "8adce5d5",
   "metadata": {},
   "outputs": [],
   "source": [
    "a=input(\"enter first number \")\n",
    "b=input(\"enter second number \")\n",
    "if a>b:\n",
    "    print(\"a is greater\")\n",
    "elif a==b:\n",
    "    print(\"a is equal to b\")\n",
    "elif a!=b:\n",
    "    print(\"a is not equal to b\")\n",
    "else:\n",
    "    print(\"b is greater\")"
   ]
  },
  {
   "cell_type": "code",
   "execution_count": 3,
   "id": "2dbd7e1a",
   "metadata": {},
   "outputs": [
    {
     "name": "stdout",
     "output_type": "stream",
     "text": [
      "number is odd \n"
     ]
    }
   ],
   "source": [
    "#write a prog to check whthr the given number is even or odd\n",
    "a=7\n",
    "if(a%2)==0:\n",
    "    print(\"number is even \")\n",
    "else:\n",
    "    print(\"number is odd \")\n"
   ]
  },
  {
   "cell_type": "code",
   "execution_count": 3,
   "id": "e29584d4",
   "metadata": {},
   "outputs": [
    {
     "name": "stdout",
     "output_type": "stream",
     "text": [
      "d\n",
      "a\n",
      "t\n",
      "a\n",
      "s\n",
      "c\n",
      "i\n",
      "e\n",
      "n\n",
      "c\n",
      "e\n"
     ]
    }
   ],
   "source": [
    "for i in \"datascience\":\n",
    "    print(i)\n"
   ]
  },
  {
   "cell_type": "code",
   "execution_count": 1,
   "id": "bf57ed82",
   "metadata": {},
   "outputs": [
    {
     "name": "stdout",
     "output_type": "stream",
     "text": [
      "ford\n"
     ]
    }
   ],
   "source": [
    "cars=['ford','audi','maruti']\n",
    "for i in cars:\n",
    "    if (i=='audi'):\n",
    "        break\n",
    "    print(i)"
   ]
  },
  {
   "cell_type": "code",
   "execution_count": 2,
   "id": "70c43d02",
   "metadata": {},
   "outputs": [
    {
     "name": "stdout",
     "output_type": "stream",
     "text": [
      "ford\n",
      "audi\n"
     ]
    }
   ],
   "source": [
    "cars=['ford','audi','maruti']\n",
    "for i in cars:\n",
    "    print(i)\n",
    "    if (i=='audi'):\n",
    "        break\n",
    " "
   ]
  },
  {
   "cell_type": "code",
   "execution_count": 5,
   "id": "19302af2",
   "metadata": {},
   "outputs": [
    {
     "name": "stdout",
     "output_type": "stream",
     "text": [
      "ford\n",
      "maruti\n"
     ]
    }
   ],
   "source": [
    "cars=['ford','audi','maruti']\n",
    "for i in cars:\n",
    "    if (i=='audi'):\n",
    "        continue\n",
    "    print(i)\n",
    "        \n",
    " "
   ]
  },
  {
   "cell_type": "code",
   "execution_count": 6,
   "id": "db01c8d4",
   "metadata": {},
   "outputs": [],
   "source": [
    "# range() function : to loop through a set of code a specified number of tyms we can use the range() function \n",
    "#the range() function returns a sequence of numbeer starting from 0 by default and increments by 1  and ends at a specified number"
   ]
  },
  {
   "cell_type": "code",
   "execution_count": 7,
   "id": "f0801ab4",
   "metadata": {},
   "outputs": [
    {
     "name": "stdout",
     "output_type": "stream",
     "text": [
      "0\n",
      "1\n",
      "2\n",
      "3\n",
      "4\n",
      "5\n"
     ]
    }
   ],
   "source": [
    "for i in range(6):\n",
    "    print(i)"
   ]
  },
  {
   "cell_type": "code",
   "execution_count": 8,
   "id": "5ddb4cb4",
   "metadata": {},
   "outputs": [
    {
     "name": "stdout",
     "output_type": "stream",
     "text": [
      "2\n",
      "3\n",
      "4\n",
      "5\n"
     ]
    }
   ],
   "source": [
    "for  i in range(2,6):\n",
    "    print(i)"
   ]
  },
  {
   "cell_type": "code",
   "execution_count": 9,
   "id": "d1aebd8a",
   "metadata": {},
   "outputs": [],
   "source": [
    "# the range() function defaults to increments the sequence by 1 however it is possible to specify the increment value by adding a third parameter range(2,30,3)"
   ]
  },
  {
   "cell_type": "code",
   "execution_count": 10,
   "id": "83f7a4f2",
   "metadata": {},
   "outputs": [
    {
     "name": "stdout",
     "output_type": "stream",
     "text": [
      "2\n",
      "5\n",
      "8\n",
      "11\n",
      "14\n",
      "17\n",
      "20\n",
      "23\n",
      "26\n",
      "29\n"
     ]
    }
   ],
   "source": [
    "for i in range(2,30,3):\n",
    "    print(i)"
   ]
  },
  {
   "cell_type": "code",
   "execution_count": 11,
   "id": "38f19980",
   "metadata": {},
   "outputs": [],
   "source": [
    "# else keyword: else keyword in a for loop specifies a block of code to be ecxexuted  when the loop is finished"
   ]
  },
  {
   "cell_type": "code",
   "execution_count": 12,
   "id": "c2f4cdfa",
   "metadata": {},
   "outputs": [
    {
     "name": "stdout",
     "output_type": "stream",
     "text": [
      "0\n",
      "1\n",
      "2\n",
      "3\n",
      "4\n",
      "5\n",
      "finally finished\n"
     ]
    }
   ],
   "source": [
    "for x in range(6):\n",
    "    print(x)\n",
    "else:\n",
    "    print(\"finally finished\")"
   ]
  },
  {
   "cell_type": "code",
   "execution_count": 14,
   "id": "ef1e0ca7",
   "metadata": {},
   "outputs": [
    {
     "name": "stdout",
     "output_type": "stream",
     "text": [
      "0\n",
      "1\n",
      "2\n"
     ]
    }
   ],
   "source": [
    "for x in range(6):\n",
    "    if x==3:\n",
    "        break\n",
    "    print(x)\n",
    "else:\n",
    "        print(\"finally finished\")"
   ]
  },
  {
   "cell_type": "code",
   "execution_count": 1,
   "id": "bb4de4e0",
   "metadata": {},
   "outputs": [
    {
     "name": "stdout",
     "output_type": "stream",
     "text": [
      "hello aaft\n"
     ]
    }
   ],
   "source": [
    "#funtion : it is a block of code which only runs when it is called ,we can pass data known as para meters, function can return data as a result ,it is also known as module\n",
    "\n",
    "           #creating function\n",
    "\n",
    "def my_funct():\n",
    "    print('hello aaft')\n",
    "    \n",
    "            # calling function\n",
    "\n",
    "my_funct()                \n",
    "    "
   ]
  },
  {
   "cell_type": "code",
   "execution_count": 2,
   "id": "6cf1fcd1",
   "metadata": {},
   "outputs": [],
   "source": [
    "# parameter: def fuct_name(parameter):\n",
    "#statement\n",
    "return expression\n",
    "function return"
   ]
  },
  {
   "cell_type": "code",
   "execution_count": 3,
   "id": "1df99e2e",
   "metadata": {},
   "outputs": [],
   "source": [
    "#types of fucntion : built in functions-standared functions already available in python \n",
    "# user define function- we can create our own function based in requirement"
   ]
  },
  {
   "cell_type": "code",
   "execution_count": 4,
   "id": "cfcfb7fe",
   "metadata": {},
   "outputs": [],
   "source": [
    "# arguments- arguments are specified after function name inside the  parantesis\n",
    "#parameter-it is the variable listed inside the paranthesis in the fucntiion defination and argyument is the value set "
   ]
  },
  {
   "cell_type": "code",
   "execution_count": 6,
   "id": "3c1ebaf3",
   "metadata": {},
   "outputs": [
    {
     "name": "stdout",
     "output_type": "stream",
     "text": [
      "add is  43\n"
     ]
    }
   ],
   "source": [
    "def add(n1:int,n2:int):\n",
    "    n3=n1+n2\n",
    "    return n3\n",
    "n1,n2=5,38\n",
    "result=add(n1,n2)\n",
    "print('add is ',result)"
   ]
  },
  {
   "cell_type": "code",
   "execution_count": 18,
   "id": "9656c008",
   "metadata": {},
   "outputs": [
    {
     "name": "stdout",
     "output_type": "stream",
     "text": [
      "number is odd \n"
     ]
    }
   ],
   "source": [
    "def even_odd(n):\n",
    "    n=5\n",
    "    if n%2==0:\n",
    "        print(\"number is even \")\n",
    "    else:\n",
    "        print(\"number is odd \")\n",
    "\n",
    "even_odd(\"n\")"
   ]
  },
  {
   "cell_type": "code",
   "execution_count": 7,
   "id": "cdb68aef",
   "metadata": {},
   "outputs": [],
   "source": [
    "# wap to find that thw number is prime or not?\n",
    "# wap to fine that given number is armstrong number or not?\n",
    "# wap to find given number is palindrome or not?\n",
    "# wap to find fibonaci series ?\n",
    "# wap to find factorial of any number number ?\n",
    "# wap to swap numbers?"
   ]
  },
  {
   "cell_type": "code",
   "execution_count": 5,
   "id": "d940ecae",
   "metadata": {},
   "outputs": [
    {
     "name": "stdout",
     "output_type": "stream",
     "text": [
      "enter number 153\n",
      "number is amstrong\n"
     ]
    }
   ],
   "source": [
    "#ans 2\n",
    "i=int(input('enter number '))\n",
    "n=i\n",
    "sum=0\n",
    "while(i>0):\n",
    "    sum=sum+(i%10)*(i%10)*(i%10)\n",
    "    i=i//10\n",
    "if n==sum:\n",
    "    print('number is amstrong')\n",
    "else:\n",
    "    print('number is not amstrong')"
   ]
  },
  {
   "cell_type": "code",
   "execution_count": 1,
   "id": "3e3b01a9",
   "metadata": {},
   "outputs": [
    {
     "name": "stdout",
     "output_type": "stream",
     "text": [
      "enter number12345\n",
      "number is not found\n"
     ]
    }
   ],
   "source": [
    "#ans 1\n",
    "a=int(input('enter number'))\n",
    "i=1\n",
    "count=0\n",
    "while (i<=a):\n",
    "    if (a%i==0):\n",
    "        count=count+1\n",
    "    i=i+1\n",
    "if (count==2):\n",
    "    print('number is found')\n",
    "else:\n",
    "    print('number is not found')"
   ]
  },
  {
   "cell_type": "code",
   "execution_count": null,
   "id": "14b54030",
   "metadata": {},
   "outputs": [],
   "source": [
    "numbers=input()\n",
    "reverse_numbers=numbers[::-1]\n",
    "print('reverse of numbers is',reverse_numbers)"
   ]
  },
  {
   "cell_type": "code",
   "execution_count": 2,
   "id": "62342aca",
   "metadata": {
    "scrolled": true
   },
   "outputs": [
    {
     "name": "stdout",
     "output_type": "stream",
     "text": [
      "enter the number3232\n",
      "reverse of numbers is 2323\n"
     ]
    }
   ],
   "source": [
    "#without inbuilt function\n",
    "i=int(input('enter the number'))\n",
    "rev=0\n",
    "while(i>0):\n",
    "    rev=(rev*10)+i%10\n",
    "    i=i//10\n",
    "print('reverse of numbers is',rev)"
   ]
  },
  {
   "cell_type": "code",
   "execution_count": 4,
   "id": "5a1e434b",
   "metadata": {},
   "outputs": [
    {
     "name": "stdout",
     "output_type": "stream",
     "text": [
      "enter the number : 323456544\n",
      "number is not palindrome\n"
     ]
    }
   ],
   "source": [
    "# ans 3\n",
    "i=int(input('enter the number : '))\n",
    "n=i\n",
    "rev=0\n",
    "while(i>0):\n",
    "    rev=(rev*10)+i%10\n",
    "    i=i//10\n",
    "if n==rev:\n",
    "    print('number is palindrome ')\n",
    "else:\n",
    "    print('number is not palindrome')"
   ]
  },
  {
   "cell_type": "code",
   "execution_count": 13,
   "id": "66981bdd",
   "metadata": {},
   "outputs": [
    {
     "name": "stdout",
     "output_type": "stream",
     "text": [
      "enter the number series 10\n",
      "enter a positive integer\n"
     ]
    }
   ],
   "source": [
    "n=int(input(\"enter the number series \"))\n",
    "a,b=0,1\n",
    "if n>=0:\n",
    "    print('enter a positive integer')\n",
    "elif n==1:\n",
    "    print('fobonacci series upto',n,'terms=')\n",
    "    print(a)\n",
    "else:\n",
    "    print('fobonacci series upto',n,'terms=')\n",
    "    print(a,b,end=\"\")\n",
    "    for _ in range(2,n):\n",
    "        next_term=a+b\n",
    "        print(next_term,end=\"\")\n",
    "        a,b=b,next_term\n",
    "    "
   ]
  },
  {
   "cell_type": "code",
   "execution_count": 7,
   "id": "72d2299e",
   "metadata": {},
   "outputs": [
    {
     "name": "stdout",
     "output_type": "stream",
     "text": [
      "enter last number10\n",
      "0\n",
      "1\n",
      "1\n",
      "2\n",
      "3\n",
      "5\n",
      "8\n"
     ]
    }
   ],
   "source": [
    "# wap to print fibonacci series\n",
    "n=int(input('enter last number'))\n",
    "x=0\n",
    "y=1\n",
    "z=0\n",
    "while(z<=n):\n",
    "    print(z)\n",
    "    x=y\n",
    "    y=z\n",
    "    z=x+y"
   ]
  },
  {
   "cell_type": "code",
   "execution_count": 3,
   "id": "f95a36e9",
   "metadata": {},
   "outputs": [
    {
     "name": "stdout",
     "output_type": "stream",
     "text": [
      "enter the year : 2008\n",
      "it is a leap year\n"
     ]
    }
   ],
   "source": [
    "# wap to find weather the year is leap year?\n",
    "n=int(input('enter the year : '))\n",
    "if (n % 4 == 0 )and (n % 100 != 0):\n",
    "    print('it is a leap year')\n",
    "elif(n % 400 == 0) and(n % 100 == 0):\n",
    "    print('it is a leap year')\n",
    "else:\n",
    "    print('it is not a leap year')\n",
    "\n",
    " "
   ]
  },
  {
   "cell_type": "code",
   "execution_count": 2,
   "id": "f4271486",
   "metadata": {},
   "outputs": [
    {
     "name": "stdout",
     "output_type": "stream",
     "text": [
      "enter a number : 4\n",
      "the factorial 4 is 1\n",
      "the factorial 4 is 2\n",
      "the factorial 4 is 6\n",
      "the factorial 4 is 24\n"
     ]
    }
   ],
   "source": [
    "n=int(input('enter a number : '))\n",
    "factorial = 1\n",
    "if n <0:\n",
    "    ('factorial is not define for negetive integers ')\n",
    "elif (n==0):\n",
    "    print('the factorial for 0 is 1')\n",
    "else:\n",
    "    for i in range (1,n+1):\n",
    "        factorial*=i\n",
    "        print(f'the factorial {n} is {factorial}')"
   ]
  },
  {
   "cell_type": "code",
   "execution_count": null,
   "id": "8abf6164",
   "metadata": {},
   "outputs": [],
   "source": [
    "# python libararies - collection of modules that are link together are known as python libararies\n",
    "# types of libr - for data analysi - pandas , matplotlib , numerical computation-numpy , seaborn , scipy -scientific computing, information or high level , scikit - open source machine learnig libr , tensorflow - for numerical calculation based on ml and dl, keras - open source neural network lib , nltk(natural language tool kit ) - for nlp , scrapy - for text analysis , pygame - , pybrain , statsmodels ,"
   ]
  },
  {
   "cell_type": "code",
   "execution_count": 5,
   "id": "39848e25",
   "metadata": {},
   "outputs": [
    {
     "name": "stdout",
     "output_type": "stream",
     "text": [
      "Requirement already satisfied: pandas in c:\\users\\nikku\\anaconda3\\lib\\site-packages (1.5.3)\n",
      "Requirement already satisfied: python-dateutil>=2.8.1 in c:\\users\\nikku\\anaconda3\\lib\\site-packages (from pandas) (2.8.2)\n",
      "Requirement already satisfied: pytz>=2020.1 in c:\\users\\nikku\\anaconda3\\lib\\site-packages (from pandas) (2022.7)\n",
      "Requirement already satisfied: numpy>=1.21.0 in c:\\users\\nikku\\anaconda3\\lib\\site-packages (from pandas) (1.24.3)\n",
      "Requirement already satisfied: six>=1.5 in c:\\users\\nikku\\anaconda3\\lib\\site-packages (from python-dateutil>=2.8.1->pandas) (1.16.0)\n"
     ]
    }
   ],
   "source": [
    "# Pandas\n",
    "!pip install pandas\n"
   ]
  },
  {
   "cell_type": "code",
   "execution_count": 3,
   "id": "1c515c62",
   "metadata": {},
   "outputs": [],
   "source": [
    "import pandas as pd"
   ]
  },
  {
   "cell_type": "code",
   "execution_count": 4,
   "id": "9b09cd84",
   "metadata": {},
   "outputs": [
    {
     "name": "stdout",
     "output_type": "stream",
     "text": [
      "         jack  john  jill\n",
      "math       91    82    92\n",
      "science    92    83    74\n",
      "english    93    84    58\n"
     ]
    }
   ],
   "source": [
    "resultsheet ={'jack':pd.Series([91,92,93],index=['math','science','english']),\n",
    "        'john':pd.Series([82,83,84],index=['math','science','english']),\n",
    "        'jill':pd.Series([92,74,58],index=['math','science','english'])}\n",
    "rdf=pd.DataFrame(resultsheet)\n",
    "print(rdf)"
   ]
  },
  {
   "cell_type": "code",
   "execution_count": 12,
   "id": "7151e4f6",
   "metadata": {},
   "outputs": [
    {
     "name": "stdout",
     "output_type": "stream",
     "text": [
      "         jack  john  jill  smith\n",
      "math       91    82    92     89\n",
      "science    92    83    74     53\n",
      "english    93    84    58     76\n"
     ]
    }
   ],
   "source": [
    "# operation on daraframes\n",
    "#adding new column to a data frame\n",
    "rdf['smith']=[89,53,76]\n",
    "print(rdf)"
   ]
  },
  {
   "cell_type": "code",
   "execution_count": 14,
   "id": "23714736",
   "metadata": {},
   "outputs": [
    {
     "name": "stdout",
     "output_type": "stream",
     "text": [
      "         jack  john  jill  smith\n",
      "math       91    82    92     89\n",
      "science    92    83    74     53\n",
      "english    93    84    58     76\n",
      "hindi      60    50    43     85\n"
     ]
    }
   ],
   "source": [
    "#adding new row to a data frame\n",
    "rdf.loc['hindi']=[60,50,43,85]\n",
    "print(rdf)"
   ]
  },
  {
   "cell_type": "code",
   "execution_count": 30,
   "id": "5a693f9d",
   "metadata": {},
   "outputs": [
    {
     "name": "stdout",
     "output_type": "stream",
     "text": [
      "         jack  john  jill  smith\n",
      "science    92    83    74     53\n",
      "english    93    84    58     76\n"
     ]
    }
   ],
   "source": [
    "#delete row or column from a data frame\n",
    "#whenever we are deleting row or colums from a data frame the name of lables to be draw and thw axis from which need to be draw\n",
    "# to delete a row axis value should be 0 and for column axis value should be 1\n",
    "rdf=rdf.drop('math',axis=0)\n",
    "print(rdf)"
   ]
  },
  {
   "cell_type": "code",
   "execution_count": 31,
   "id": "4a751836",
   "metadata": {},
   "outputs": [
    {
     "name": "stdout",
     "output_type": "stream",
     "text": [
      "         jack  john  jill\n",
      "science    92    83    74\n",
      "english    93    84    58\n"
     ]
    }
   ],
   "source": [
    "rdf=rdf.drop('smith',axis=1)\n",
    "print(rdf)"
   ]
  },
  {
   "cell_type": "code",
   "execution_count": 37,
   "id": "76d805e1",
   "metadata": {},
   "outputs": [
    {
     "name": "stdout",
     "output_type": "stream",
     "text": [
      "      jack  john  jill\n",
      "sub2    92    83    74\n",
      "sub1    93    84    58\n"
     ]
    }
   ],
   "source": [
    "#remane row lable of the dataframe\n",
    "#row\n",
    "rdf=rdf.rename({'english':'sub1','science':'sub2'},axis='index')\n",
    "print(rdf)"
   ]
  },
  {
   "cell_type": "code",
   "execution_count": 39,
   "id": "d6a5a771",
   "metadata": {},
   "outputs": [
    {
     "name": "stdout",
     "output_type": "stream",
     "text": [
      "      Ld  john  saanp\n",
      "sub2  92    83     74\n",
      "sub1  93    84     58\n"
     ]
    }
   ],
   "source": [
    "#column\n",
    "rdf=rdf.rename({'jill':'saanp','jack':'Ld'},axis='columns')\n",
    "print(rdf)"
   ]
  },
  {
   "cell_type": "code",
   "execution_count": 5,
   "id": "c0eabab5",
   "metadata": {},
   "outputs": [
    {
     "data": {
      "text/plain": [
       "jack    92\n",
       "john    83\n",
       "jill    74\n",
       "Name: science, dtype: int64"
      ]
     },
     "execution_count": 5,
     "metadata": {},
     "output_type": "execute_result"
    }
   ],
   "source": [
    "# access dataframe elements\n",
    "rdf.loc['science']"
   ]
  },
  {
   "cell_type": "code",
   "execution_count": 6,
   "id": "7f0fe4c9",
   "metadata": {},
   "outputs": [
    {
     "name": "stdout",
     "output_type": "stream",
     "text": [
      "math       91\n",
      "science    92\n",
      "english    93\n",
      "Name: jack, dtype: int64\n"
     ]
    }
   ],
   "source": [
    "print(rdf['jack'])"
   ]
  },
  {
   "cell_type": "code",
   "execution_count": 8,
   "id": "eeaa9b6a",
   "metadata": {},
   "outputs": [
    {
     "data": {
      "text/html": [
       "<div>\n",
       "<style scoped>\n",
       "    .dataframe tbody tr th:only-of-type {\n",
       "        vertical-align: middle;\n",
       "    }\n",
       "\n",
       "    .dataframe tbody tr th {\n",
       "        vertical-align: top;\n",
       "    }\n",
       "\n",
       "    .dataframe thead th {\n",
       "        text-align: right;\n",
       "    }\n",
       "</style>\n",
       "<table border=\"1\" class=\"dataframe\">\n",
       "  <thead>\n",
       "    <tr style=\"text-align: right;\">\n",
       "      <th></th>\n",
       "      <th>jack</th>\n",
       "      <th>john</th>\n",
       "      <th>jill</th>\n",
       "    </tr>\n",
       "  </thead>\n",
       "  <tbody>\n",
       "    <tr>\n",
       "      <th>english</th>\n",
       "      <td>93</td>\n",
       "      <td>84</td>\n",
       "      <td>58</td>\n",
       "    </tr>\n",
       "    <tr>\n",
       "      <th>math</th>\n",
       "      <td>91</td>\n",
       "      <td>82</td>\n",
       "      <td>92</td>\n",
       "    </tr>\n",
       "  </tbody>\n",
       "</table>\n",
       "</div>"
      ],
      "text/plain": [
       "         jack  john  jill\n",
       "english    93    84    58\n",
       "math       91    82    92"
      ]
     },
     "execution_count": 8,
     "metadata": {},
     "output_type": "execute_result"
    }
   ],
   "source": [
    "rdf.loc[['english','math']]"
   ]
  },
  {
   "cell_type": "code",
   "execution_count": 9,
   "id": "4008bfa4",
   "metadata": {},
   "outputs": [
    {
     "data": {
      "text/plain": [
       "jack     True\n",
       "john    False\n",
       "jill     True\n",
       "Name: math, dtype: bool"
      ]
     },
     "execution_count": 9,
     "metadata": {},
     "output_type": "execute_result"
    }
   ],
   "source": [
    "rdf.loc['math']>90"
   ]
  },
  {
   "cell_type": "code",
   "execution_count": 10,
   "id": "fd4c5a42",
   "metadata": {},
   "outputs": [
    {
     "data": {
      "text/plain": [
       "math        True\n",
       "science    False\n",
       "english    False\n",
       "Name: jill, dtype: bool"
      ]
     },
     "execution_count": 10,
     "metadata": {},
     "output_type": "execute_result"
    }
   ],
   "source": [
    "#to check in which subject a particular student has scored more than 90\n",
    "rdf.loc[:,'jill']>90"
   ]
  },
  {
   "cell_type": "code",
   "execution_count": 14,
   "id": "418bd496",
   "metadata": {},
   "outputs": [
    {
     "data": {
      "text/html": [
       "<div>\n",
       "<style scoped>\n",
       "    .dataframe tbody tr th:only-of-type {\n",
       "        vertical-align: middle;\n",
       "    }\n",
       "\n",
       "    .dataframe tbody tr th {\n",
       "        vertical-align: top;\n",
       "    }\n",
       "\n",
       "    .dataframe thead th {\n",
       "        text-align: right;\n",
       "    }\n",
       "</style>\n",
       "<table border=\"1\" class=\"dataframe\">\n",
       "  <thead>\n",
       "    <tr style=\"text-align: right;\">\n",
       "      <th></th>\n",
       "      <th>jack</th>\n",
       "      <th>john</th>\n",
       "      <th>jill</th>\n",
       "    </tr>\n",
       "  </thead>\n",
       "  <tbody>\n",
       "    <tr>\n",
       "      <th>math</th>\n",
       "      <td>91</td>\n",
       "      <td>82</td>\n",
       "      <td>92</td>\n",
       "    </tr>\n",
       "    <tr>\n",
       "      <th>science</th>\n",
       "      <td>92</td>\n",
       "      <td>83</td>\n",
       "      <td>74</td>\n",
       "    </tr>\n",
       "  </tbody>\n",
       "</table>\n",
       "</div>"
      ],
      "text/plain": [
       "         jack  john  jill\n",
       "math       91    82    92\n",
       "science    92    83    74"
      ]
     },
     "execution_count": 14,
     "metadata": {},
     "output_type": "execute_result"
    }
   ],
   "source": [
    "# accessing data frame elements throug slicing\n",
    "rdf.loc['math':'science']\n"
   ]
  },
  {
   "cell_type": "code",
   "execution_count": 15,
   "id": "edda304f",
   "metadata": {},
   "outputs": [
    {
     "data": {
      "text/html": [
       "<div>\n",
       "<style scoped>\n",
       "    .dataframe tbody tr th:only-of-type {\n",
       "        vertical-align: middle;\n",
       "    }\n",
       "\n",
       "    .dataframe tbody tr th {\n",
       "        vertical-align: top;\n",
       "    }\n",
       "\n",
       "    .dataframe thead th {\n",
       "        text-align: right;\n",
       "    }\n",
       "</style>\n",
       "<table border=\"1\" class=\"dataframe\">\n",
       "  <thead>\n",
       "    <tr style=\"text-align: right;\">\n",
       "      <th></th>\n",
       "      <th>jack</th>\n",
       "      <th>john</th>\n",
       "      <th>jill</th>\n",
       "    </tr>\n",
       "  </thead>\n",
       "  <tbody>\n",
       "    <tr>\n",
       "      <th>math</th>\n",
       "      <td>91</td>\n",
       "      <td>82</td>\n",
       "      <td>92</td>\n",
       "    </tr>\n",
       "    <tr>\n",
       "      <th>science</th>\n",
       "      <td>92</td>\n",
       "      <td>83</td>\n",
       "      <td>74</td>\n",
       "    </tr>\n",
       "  </tbody>\n",
       "</table>\n",
       "</div>"
      ],
      "text/plain": [
       "         jack  john  jill\n",
       "math       91    82    92\n",
       "science    92    83    74"
      ]
     },
     "execution_count": 15,
     "metadata": {},
     "output_type": "execute_result"
    }
   ],
   "source": [
    "rdf.loc['math':'science','jack':'jill']"
   ]
  },
  {
   "cell_type": "code",
   "execution_count": 18,
   "id": "0883a527",
   "metadata": {},
   "outputs": [],
   "source": [
    "# joining ,merging and concatination of data frame\n",
    "\n",
    "dframe=pd.DataFrame([[1,2,3],[4,5],[6]],\n",
    "                   columns=['c1','c2','c3'],\n",
    "                   index=['r1','r2','r3'])\n",
    "\n",
    "dframe2=pd.DataFrame([[10,20],[30],[40,50]],\n",
    "                    columns=['c2','c5'],\n",
    "                    index=['r4','r2','r5'])"
   ]
  },
  {
   "cell_type": "code",
   "execution_count": 19,
   "id": "24f2f696",
   "metadata": {},
   "outputs": [
    {
     "name": "stdout",
     "output_type": "stream",
     "text": [
      "    c1   c2   c3\n",
      "r1   1  2.0  3.0\n",
      "r2   4  5.0  NaN\n",
      "r3   6  NaN  NaN\n",
      "    c2    c5\n",
      "r4  10  20.0\n",
      "r2  30   NaN\n",
      "r5  40  50.0\n"
     ]
    }
   ],
   "source": [
    "print(dframe)\n",
    "print(dframe2)"
   ]
  },
  {
   "cell_type": "code",
   "execution_count": 21,
   "id": "c12c1ad9",
   "metadata": {},
   "outputs": [
    {
     "name": "stdout",
     "output_type": "stream",
     "text": [
      "     c1    c2   c3    c5\n",
      "r1  1.0   2.0  3.0   NaN\n",
      "r2  4.0   5.0  NaN   NaN\n",
      "r3  6.0   NaN  NaN   NaN\n",
      "r4  NaN  10.0  NaN  20.0\n",
      "r2  NaN  30.0  NaN   NaN\n",
      "r5  NaN  40.0  NaN  50.0\n",
      "r4  NaN  10.0  NaN  20.0\n",
      "r2  NaN  30.0  NaN   NaN\n",
      "r5  NaN  40.0  NaN  50.0\n"
     ]
    },
    {
     "name": "stderr",
     "output_type": "stream",
     "text": [
      "C:\\Users\\nikku\\AppData\\Local\\Temp\\ipykernel_10208\\37361684.py:1: FutureWarning: The frame.append method is deprecated and will be removed from pandas in a future version. Use pandas.concat instead.\n",
      "  dframe=dframe.append(dframe2)\n"
     ]
    }
   ],
   "source": [
    "dframe=dframe.append(dframe2)\n",
    "print(dframe)"
   ]
  },
  {
   "cell_type": "code",
   "execution_count": null,
   "id": "7f49cea9",
   "metadata": {},
   "outputs": [],
   "source": []
  }
 ],
 "metadata": {
  "kernelspec": {
   "display_name": "Python 3 (ipykernel)",
   "language": "python",
   "name": "python3"
  },
  "language_info": {
   "codemirror_mode": {
    "name": "ipython",
    "version": 3
   },
   "file_extension": ".py",
   "mimetype": "text/x-python",
   "name": "python",
   "nbconvert_exporter": "python",
   "pygments_lexer": "ipython3",
   "version": "3.11.4"
  }
 },
 "nbformat": 4,
 "nbformat_minor": 5
}
